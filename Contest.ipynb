{
 "cells": [
  {
   "cell_type": "markdown",
   "metadata": {},
   "source": [
    "# Weekly Contest 214"
   ]
  },
  {
   "cell_type": "markdown",
   "metadata": {},
   "source": [
    "## Get Maximum in Generated Array"
   ]
  },
  {
   "cell_type": "code",
   "execution_count": 106,
   "metadata": {},
   "outputs": [],
   "source": [
    "from collections import Counter"
   ]
  },
  {
   "cell_type": "code",
   "execution_count": 107,
   "metadata": {},
   "outputs": [],
   "source": [
    "class Solution:\n",
    "    def __init__(self):\n",
    "        pass\n",
    "    # mine\n",
    "    def getMaximumGenerated(self, n: int) -> int:\n",
    "        nums = []\n",
    "        if n == 0:\n",
    "            return 0\n",
    "        if n == 1 :\n",
    "            return 1\n",
    "        if n == 2:\n",
    "            return 1\n",
    "        \n",
    "        # 使用append 的方法解决\n",
    "        nums.append(0)\n",
    "        nums.append(1)\n",
    "        i = 1\n",
    "        while 2 * i <= n:\n",
    "            nums.append(nums[i])\n",
    "            if 2 * i + 1 <= n:\n",
    "                nums.append(nums[i] + nums[i+1])\n",
    "            i += 1\n",
    "            \n",
    "        return max(nums) \n",
    "    \n",
    "    # from superluminal\n",
    "    def superluminal(self, n):\n",
    "        '''\n",
    "        :type n: int\n",
    "        :rtype: int\n",
    "        '''\n",
    "        if n == 0: return 0\n",
    "        n += 1\n",
    "        arr = [0]*n\n",
    "        arr[1] = 1\n",
    "        for i in xrange(2, n):\n",
    "            arr[i] = arr[i>>1]\n",
    "            if i&1: arr[i] += arr[(i+1)>>1]\n",
    "        return max(arr)"
   ]
  },
  {
   "cell_type": "code",
   "execution_count": 108,
   "metadata": {},
   "outputs": [],
   "source": [
    "s = Solution()"
   ]
  },
  {
   "cell_type": "code",
   "execution_count": 109,
   "metadata": {},
   "outputs": [
    {
     "data": {
      "text/plain": [
       "2"
      ]
     },
     "execution_count": 109,
     "metadata": {},
     "output_type": "execute_result"
    }
   ],
   "source": [
    "s.getMaximumGenerated(3)"
   ]
  },
  {
   "cell_type": "markdown",
   "metadata": {},
   "source": [
    "## Minimum Deletions to Make Character Frequencies Unique\n",
    "A string s is called good if there are no two different characters in s that have the same frequency.\n",
    "\n",
    "Given a string s, return the minimum number of characters you need to delete to make s good.\n",
    "\n",
    "The frequency of a character in a string is the number of times it appears in the string. For example, in the string \"aab\", the frequency of 'a' is 2, while the frequency of 'b' is 1.\n",
    "\n",
    "**Example 1:**\n",
    "\n",
    "Input: s = \"aab\"  \n",
    "Output: 0  \n",
    "Explanation: s is already good."
   ]
  },
  {
   "cell_type": "code",
   "execution_count": 127,
   "metadata": {},
   "outputs": [],
   "source": [
    "class Solution:\n",
    "    def __init__(self):\n",
    "        pass\n",
    "    def minDeletions(self, s: str) -> int:\n",
    "        # stores frequency of each character\n",
    "        frequency_list = [0] * 26\n",
    "\n",
    "        for i in range(len(s)):\n",
    "            frequency_list[ord(s[i]) - ord('a')] += 1\n",
    "        print(frequency_list)\n",
    "        # stores each frequency and corresponding number of characters\n",
    "        frequency_count = dict() \n",
    "\n",
    "        for i in range(26):\n",
    "            if (frequency_list[i] != 0):\n",
    "                frequency_count[frequency_list[i]] = frequency_count.get(frequency_list[i], 0) + 1\n",
    "        print(frequency_count)\n",
    "        # number of deletions required\n",
    "        deletions = 0\n",
    "\n",
    "        # Iterate dictionary from higher frequency to lower\n",
    "        freq = list(frequency_count.keys())\n",
    "        i = max(freq)\n",
    "        while i > 0:\n",
    "            \n",
    "            if (i == 0):\n",
    "                break\n",
    "            \n",
    "            characters = frequency_count[i] if i in frequency_count.keys() else 0\n",
    "            #print(characters)\n",
    "            #x = ord(characters) - ord('a')\n",
    "            while (characters > 1):\n",
    "                print('del')\n",
    "                print(characters)\n",
    "                deletions += 1\n",
    "                characters -= 1\n",
    "                if (i - 1) in frequency_count.keys():\n",
    "                    frequency_count[i - 1] += 1\n",
    "                else:\n",
    "                    frequency_count[i - 1] = 1\n",
    "            i -= 1\n",
    "\n",
    "        return deletions \n",
    "\n",
    "    \n",
    "    def superluminal(self, s):\n",
    "        '''\n",
    "        :type s: str\n",
    "        :rtype: int\n",
    "        '''\n",
    "        \n",
    "        # init inf\n",
    "        p = float('inf')\n",
    "        # the del times\n",
    "        r = 0\n",
    "        # each frequency\n",
    "        for i in sorted(Counter(s).values(), reverse=True):\n",
    "            #use p to store the last unique frequency\n",
    "            # if last <= 1, means u only need to del once\n",
    "            # if last <= current freq, means u need to del i-p+1 times\n",
    "            # else: update last to current: p = i\n",
    "            print(p,r,i)\n",
    "            # means there's two freq == 1\n",
    "            if p <= 1:\n",
    "                r += i\n",
    "            # means there's \n",
    "            elif i >= p:\n",
    "                r += i - (p-1)\n",
    "                p -= 1\n",
    "            else:\n",
    "                p = i\n",
    "            \n",
    "            # this is genius like how do people come up with it?\n",
    "        return r\n",
    "        \n",
    "        "
   ]
  },
  {
   "cell_type": "code",
   "execution_count": 128,
   "metadata": {},
   "outputs": [],
   "source": [
    "s = Solution()"
   ]
  },
  {
   "cell_type": "code",
   "execution_count": 129,
   "metadata": {},
   "outputs": [
    {
     "name": "stdout",
     "output_type": "stream",
     "text": [
      "inf 0 3\n",
      "3 0 2\n",
      "2 0 2\n",
      "1 1 1\n"
     ]
    },
    {
     "data": {
      "text/plain": [
       "2"
      ]
     },
     "execution_count": 129,
     "metadata": {},
     "output_type": "execute_result"
    }
   ],
   "source": [
    "s.superluminal(\"ceabaacb\")"
   ]
  },
  {
   "cell_type": "code",
   "execution_count": 131,
   "metadata": {},
   "outputs": [
    {
     "name": "stdout",
     "output_type": "stream",
     "text": [
      "inf 0 2\n",
      "2 0 2\n",
      "1 1 2\n"
     ]
    },
    {
     "data": {
      "text/plain": [
       "3"
      ]
     },
     "execution_count": 131,
     "metadata": {},
     "output_type": "execute_result"
    }
   ],
   "source": [
    "s.superluminal(\"abcabc\")"
   ]
  },
  {
   "cell_type": "code",
   "execution_count": 132,
   "metadata": {},
   "outputs": [
    {
     "name": "stdout",
     "output_type": "stream",
     "text": [
      "inf 0 6\n",
      "6 0 4\n",
      "4 0 4\n",
      "3 1 2\n"
     ]
    },
    {
     "data": {
      "text/plain": [
       "1"
      ]
     },
     "execution_count": 132,
     "metadata": {},
     "output_type": "execute_result"
    }
   ],
   "source": [
    "c =\"accdcdadddbaadbc\"\n",
    "s.superluminal(c)"
   ]
  },
  {
   "cell_type": "markdown",
   "metadata": {},
   "source": [
    "## Sell Diminishing-Valued Colored Balls\n",
    "You have an inventory of different colored balls, and there is a customer that wants orders balls of any color.\n",
    "\n",
    "The customer weirdly values the colored balls. Each colored ball's value is the number of balls of that color you currently have in your inventory. For example, if you own 6 yellow balls, the customer would pay 6 for the first yellow ball. After the transaction, there are only 5 yellow balls left, so the next yellow ball is then valued at 5\n",
    "\n",
    "Return the maximum total value that you can attain after selling orders colored balls. As the answer may be too large, return it modulo 109 + 7.\n",
    "\n",
    "#### Intuition\n",
    "Use binary search to find the highest height x but the sell_count is no more than orders."
   ]
  },
  {
   "cell_type": "code",
   "execution_count": 50,
   "metadata": {},
   "outputs": [],
   "source": [
    "class Solution:\n",
    "    def __init__(self):\n",
    "        pass\n",
    "    \n",
    "    # Time Limit Exceeded when [1000000000], 1000000000 \n",
    "    # [skull] [skull]\n",
    "    def maxProfit(self, inventory, orders: int) -> int:\n",
    "        \n",
    "        dlist = sorted(inventory, reverse = True)\n",
    "        value = 0\n",
    "        index = 0\n",
    "        times = 1\n",
    "        index_max = len(dlist)\n",
    "        while orders:\n",
    "            if index < index_max-1 and dlist[index] ==dlist[index+1]:\n",
    "                index += 1\n",
    "                times += 1\n",
    "                \n",
    "            value += dlist[index] * times\n",
    "            orders -= times\n",
    "            #print(value)\n",
    "            \n",
    "            #print(orders)\n",
    "            while orders < 0:\n",
    "                orders += 1\n",
    "                value -= dlist[index]\n",
    "                \n",
    "                \n",
    "            # \n",
    "            if index == 0:\n",
    "                dlist[0] -= 1\n",
    "                #orders -= 1\n",
    "            else:\n",
    "                for i in range(index + 1):\n",
    "                    dlist[i] -= 1\n",
    "                    #orders -= 1\n",
    "\n",
    "            \n",
    "            #print(index)\n",
    "            #print(dlist)\n",
    "            \n",
    "        return value % (10**9 + 7)\n",
    "    \n",
    "    def superlunimal(self, inventory, orders):\n",
    "        \"\"\"\n",
    "        :type inventory: List[int]\n",
    "        :type orders: int\n",
    "        :rtype: int\n",
    "        \"\"\"\n",
    "        arr = inventory\n",
    "        \n",
    "        # x的阶乘（快速求阶乘）\n",
    "        t = lambda x: x*(x+1)//2\n",
    "        # inventory中超过x高度的balls数\n",
    "        sell_cnt = lambda x: sum(max(i-x,0) for i in arr)\n",
    "        # inventory中超过x高度的balls所能卖出的value\n",
    "        sell_amt = lambda x: sum(max(t(i)-t(x),0) for i in arr)\n",
    "        \n",
    "        n = orders\n",
    "        x, y = 0, max(arr)\n",
    "        \n",
    "        # 用二分法快速找到 使得orders离sell_cnt最近 的高度x\n",
    "        while x + 1 < y:\n",
    "            z = (x + y) >> 1\n",
    "            if sell_cnt(z) >= orders: x = z\n",
    "            else: y = z\n",
    "\n",
    "        \n",
    "        r = sell_amt(y)\n",
    "        # 加上剩余的orders\n",
    "        r += y * (orders - sell_cnt(y))\n",
    "        \n",
    "        # Jesus Christ i really should have thought of BINARY fucking SEARCH.\n",
    "        return r % (10**9 + 7)"
   ]
  },
  {
   "cell_type": "code",
   "execution_count": 51,
   "metadata": {},
   "outputs": [],
   "source": [
    "s = Solution()"
   ]
  },
  {
   "cell_type": "code",
   "execution_count": 53,
   "metadata": {},
   "outputs": [
    {
     "data": {
      "text/plain": [
       "19"
      ]
     },
     "execution_count": 53,
     "metadata": {},
     "output_type": "execute_result"
    }
   ],
   "source": [
    "s.superlunimal([3, 5], 6)"
   ]
  },
  {
   "cell_type": "code",
   "execution_count": 54,
   "metadata": {},
   "outputs": [
    {
     "data": {
      "text/plain": [
       "107"
      ]
     },
     "execution_count": 54,
     "metadata": {},
     "output_type": "execute_result"
    }
   ],
   "source": [
    "s.superlunimal([2,8,4,10,6], 19)"
   ]
  },
  {
   "cell_type": "code",
   "execution_count": 55,
   "metadata": {},
   "outputs": [
    {
     "data": {
      "text/plain": [
       "21"
      ]
     },
     "execution_count": 55,
     "metadata": {},
     "output_type": "execute_result"
    }
   ],
   "source": [
    "s.superlunimal([1000000000],1000000000)"
   ]
  },
  {
   "cell_type": "code",
   "execution_count": 98,
   "metadata": {},
   "outputs": [],
   "source": [
    "class Solution(object):\n",
    "    def __init__(self):\n",
    "        pass\n",
    "    def createSortedArray(self, instructions):\n",
    "        \"\"\"\n",
    "        :type instructions: List[int]\n",
    "        :rtype: int\n",
    "        \"\"\"\n",
    "        \n",
    "        n = max(instructions) + 1\n",
    "        \n",
    "        # i dont get it???\n",
    "        fen = [0] * (n+1)\n",
    "        # 当前index数字出现的次数\n",
    "        c = [0] * n\n",
    "        def _get(i):\n",
    "            r = 0\n",
    "            while i:\n",
    "                r += fen[i]\n",
    "                i -= i & -i\n",
    "            return r\n",
    "        def _upd(i):\n",
    "            \n",
    "            i += 1\n",
    "            while i <= n:\n",
    "                print(i)\n",
    "                fen[i] += 1\n",
    "                i += i & -i\n",
    "                \n",
    "        r = 0\n",
    "        for i, v in enumerate(instructions):\n",
    "            print(i)\n",
    "            below = _get(v)\n",
    "            above = i - c[v] - below\n",
    "            r += min(below, above)\n",
    "            _upd(v)\n",
    "            c[v] += 1\n",
    "            print(fen)\n",
    "            print(c)\n",
    "        return r % (10**9 + 7)"
   ]
  },
  {
   "cell_type": "code",
   "execution_count": 99,
   "metadata": {},
   "outputs": [],
   "source": [
    "instructions = [1,5,6,2]\n",
    "s = Solution()"
   ]
  },
  {
   "cell_type": "code",
   "execution_count": 100,
   "metadata": {},
   "outputs": [
    {
     "name": "stdout",
     "output_type": "stream",
     "text": [
      "0\n",
      "1\n",
      "2\n",
      "4\n",
      "[0, 0, 1, 0, 1, 0, 0, 0]\n",
      "[0, 1, 0, 0, 0, 0, 0]\n",
      "1\n",
      "5\n",
      "6\n",
      "[0, 0, 1, 0, 1, 0, 1, 0]\n",
      "[0, 1, 0, 0, 0, 1, 0]\n",
      "2\n",
      "6\n",
      "7\n",
      "[0, 0, 1, 0, 1, 0, 1, 1]\n",
      "[0, 1, 0, 0, 0, 1, 1]\n",
      "3\n",
      "2\n",
      "3\n",
      "4\n",
      "[0, 0, 1, 1, 2, 0, 1, 1]\n",
      "[0, 1, 1, 0, 0, 1, 1]\n"
     ]
    },
    {
     "data": {
      "text/plain": [
       "1"
      ]
     },
     "execution_count": 100,
     "metadata": {},
     "output_type": "execute_result"
    }
   ],
   "source": [
    "s.createSortedArray(instructions)"
   ]
  },
  {
   "cell_type": "code",
   "execution_count": null,
   "metadata": {},
   "outputs": [],
   "source": []
  }
 ],
 "metadata": {
  "kernelspec": {
   "display_name": "Python 3",
   "language": "python",
   "name": "python3"
  },
  "language_info": {
   "codemirror_mode": {
    "name": "ipython",
    "version": 3
   },
   "file_extension": ".py",
   "mimetype": "text/x-python",
   "name": "python",
   "nbconvert_exporter": "python",
   "pygments_lexer": "ipython3",
   "version": "3.7.4"
  }
 },
 "nbformat": 4,
 "nbformat_minor": 2
}

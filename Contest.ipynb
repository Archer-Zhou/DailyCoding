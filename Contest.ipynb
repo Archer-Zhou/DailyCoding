{
 "cells": [
  {
   "cell_type": "markdown",
   "metadata": {},
   "source": [
    "# Weekly Contest 214"
   ]
  },
  {
   "cell_type": "markdown",
   "metadata": {},
   "source": [
    "## Get Maximum in Generated Array"
   ]
  },
  {
   "cell_type": "code",
   "execution_count": 106,
   "metadata": {},
   "outputs": [],
   "source": [
    "from collections import Counter"
   ]
  },
  {
   "cell_type": "code",
   "execution_count": 107,
   "metadata": {},
   "outputs": [],
   "source": [
    "class Solution:\n",
    "    def __init__(self):\n",
    "        pass\n",
    "    # mine\n",
    "    def getMaximumGenerated(self, n: int) -> int:\n",
    "        nums = []\n",
    "        if n == 0:\n",
    "            return 0\n",
    "        if n == 1 :\n",
    "            return 1\n",
    "        if n == 2:\n",
    "            return 1\n",
    "        \n",
    "        # 使用append 的方法解决\n",
    "        nums.append(0)\n",
    "        nums.append(1)\n",
    "        i = 1\n",
    "        while 2 * i <= n:\n",
    "            nums.append(nums[i])\n",
    "            if 2 * i + 1 <= n:\n",
    "                nums.append(nums[i] + nums[i+1])\n",
    "            i += 1\n",
    "            \n",
    "        return max(nums) \n",
    "    \n",
    "    # from superluminal\n",
    "    def superluminal(self, n):\n",
    "        '''\n",
    "        :type n: int\n",
    "        :rtype: int\n",
    "        '''\n",
    "        if n == 0: return 0\n",
    "        n += 1\n",
    "        arr = [0]*n\n",
    "        arr[1] = 1\n",
    "        for i in xrange(2, n):\n",
    "            arr[i] = arr[i>>1]\n",
    "            if i&1: arr[i] += arr[(i+1)>>1]\n",
    "        return max(arr)"
   ]
  },
  {
   "cell_type": "code",
   "execution_count": 108,
   "metadata": {},
   "outputs": [],
   "source": [
    "s = Solution()"
   ]
  },
  {
   "cell_type": "code",
   "execution_count": 109,
   "metadata": {},
   "outputs": [
    {
     "data": {
      "text/plain": [
       "2"
      ]
     },
     "execution_count": 109,
     "metadata": {},
     "output_type": "execute_result"
    }
   ],
   "source": [
    "s.getMaximumGenerated(3)"
   ]
  },
  {
   "cell_type": "markdown",
   "metadata": {},
   "source": [
    "## Minimum Deletions to Make Character Frequencies Unique\n",
    "A string s is called good if there are no two different characters in s that have the same frequency.\n",
    "\n",
    "Given a string s, return the minimum number of characters you need to delete to make s good.\n",
    "\n",
    "The frequency of a character in a string is the number of times it appears in the string. For example, in the string \"aab\", the frequency of 'a' is 2, while the frequency of 'b' is 1.\n",
    "\n",
    "**Example 1:**\n",
    "\n",
    "Input: s = \"aab\"  \n",
    "Output: 0  \n",
    "Explanation: s is already good."
   ]
  },
  {
   "cell_type": "code",
   "execution_count": 127,
   "metadata": {},
   "outputs": [],
   "source": [
    "class Solution:\n",
    "    def __init__(self):\n",
    "        pass\n",
    "    def minDeletions(self, s: str) -> int:\n",
    "        # stores frequency of each character\n",
    "        frequency_list = [0] * 26\n",
    "\n",
    "        for i in range(len(s)):\n",
    "            frequency_list[ord(s[i]) - ord('a')] += 1\n",
    "        print(frequency_list)\n",
    "        # stores each frequency and corresponding number of characters\n",
    "        frequency_count = dict() \n",
    "\n",
    "        for i in range(26):\n",
    "            if (frequency_list[i] != 0):\n",
    "                frequency_count[frequency_list[i]] = frequency_count.get(frequency_list[i], 0) + 1\n",
    "        print(frequency_count)\n",
    "        # number of deletions required\n",
    "        deletions = 0\n",
    "\n",
    "        # Iterate dictionary from higher frequency to lower\n",
    "        freq = list(frequency_count.keys())\n",
    "        i = max(freq)\n",
    "        while i > 0:\n",
    "            \n",
    "            if (i == 0):\n",
    "                break\n",
    "            \n",
    "            characters = frequency_count[i] if i in frequency_count.keys() else 0\n",
    "            #print(characters)\n",
    "            #x = ord(characters) - ord('a')\n",
    "            while (characters > 1):\n",
    "                print('del')\n",
    "                print(characters)\n",
    "                deletions += 1\n",
    "                characters -= 1\n",
    "                if (i - 1) in frequency_count.keys():\n",
    "                    frequency_count[i - 1] += 1\n",
    "                else:\n",
    "                    frequency_count[i - 1] = 1\n",
    "            i -= 1\n",
    "\n",
    "        return deletions \n",
    "\n",
    "    \n",
    "    def superluminal(self, s):\n",
    "        '''\n",
    "        :type s: str\n",
    "        :rtype: int\n",
    "        '''\n",
    "        \n",
    "        # init inf\n",
    "        p = float('inf')\n",
    "        # the del times\n",
    "        r = 0\n",
    "        # each frequency\n",
    "        for i in sorted(Counter(s).values(), reverse=True):\n",
    "            #use p to store the last unique frequency\n",
    "            # if last <= 1, means u only need to del once\n",
    "            # if last <= current freq, means u need to del i-p+1 times\n",
    "            # else: update last to current: p = i\n",
    "            print(p,r,i)\n",
    "            # means there's two freq == 1\n",
    "            if p <= 1:\n",
    "                r += i\n",
    "            # means there's \n",
    "            elif i >= p:\n",
    "                r += i - (p-1)\n",
    "                p -= 1\n",
    "            else:\n",
    "                p = i\n",
    "            \n",
    "            # this is genius like how do people come up with it?\n",
    "        return r\n",
    "        \n",
    "        "
   ]
  },
  {
   "cell_type": "code",
   "execution_count": 128,
   "metadata": {},
   "outputs": [],
   "source": [
    "s = Solution()"
   ]
  },
  {
   "cell_type": "code",
   "execution_count": 129,
   "metadata": {},
   "outputs": [
    {
     "name": "stdout",
     "output_type": "stream",
     "text": [
      "inf 0 3\n",
      "3 0 2\n",
      "2 0 2\n",
      "1 1 1\n"
     ]
    },
    {
     "data": {
      "text/plain": [
       "2"
      ]
     },
     "execution_count": 129,
     "metadata": {},
     "output_type": "execute_result"
    }
   ],
   "source": [
    "s.superluminal(\"ceabaacb\")"
   ]
  },
  {
   "cell_type": "code",
   "execution_count": 131,
   "metadata": {},
   "outputs": [
    {
     "name": "stdout",
     "output_type": "stream",
     "text": [
      "inf 0 2\n",
      "2 0 2\n",
      "1 1 2\n"
     ]
    },
    {
     "data": {
      "text/plain": [
       "3"
      ]
     },
     "execution_count": 131,
     "metadata": {},
     "output_type": "execute_result"
    }
   ],
   "source": [
    "s.superluminal(\"abcabc\")"
   ]
  },
  {
   "cell_type": "code",
   "execution_count": 132,
   "metadata": {},
   "outputs": [
    {
     "name": "stdout",
     "output_type": "stream",
     "text": [
      "inf 0 6\n",
      "6 0 4\n",
      "4 0 4\n",
      "3 1 2\n"
     ]
    },
    {
     "data": {
      "text/plain": [
       "1"
      ]
     },
     "execution_count": 132,
     "metadata": {},
     "output_type": "execute_result"
    }
   ],
   "source": [
    "c =\"accdcdadddbaadbc\"\n",
    "s.superluminal(c)"
   ]
  }
 ],
 "metadata": {
  "kernelspec": {
   "display_name": "Python 3",
   "language": "python",
   "name": "python3"
  },
  "language_info": {
   "codemirror_mode": {
    "name": "ipython",
    "version": 3
   },
   "file_extension": ".py",
   "mimetype": "text/x-python",
   "name": "python",
   "nbconvert_exporter": "python",
   "pygments_lexer": "ipython3",
   "version": "3.7.4"
  }
 },
 "nbformat": 4,
 "nbformat_minor": 2
}

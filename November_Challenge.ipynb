{
 "cells": [
  {
   "cell_type": "markdown",
   "metadata": {},
   "source": [
    "# November Challenge"
   ]
  },
  {
   "cell_type": "markdown",
   "metadata": {},
   "source": [
    "## Preliminary"
   ]
  },
  {
   "cell_type": "code",
   "execution_count": 1,
   "metadata": {},
   "outputs": [],
   "source": [
    "class TreeNode:\n",
    "    def __init__(self, val=0, left=None, right=None):\n",
    "        self.val = val`\n",
    "        self.left = left\n",
    "        self.right = right"
   ]
  },
  {
   "cell_type": "code",
   "execution_count": 2,
   "metadata": {},
   "outputs": [],
   "source": [
    "# Definition for singly-linked list.\n",
    "class ListNode:\n",
    "    def __init__(self, val=0, next=None):\n",
    "        self.val = val\n",
    "        self.next = next"
   ]
  },
  {
   "cell_type": "code",
   "execution_count": 1,
   "metadata": {},
   "outputs": [],
   "source": [
    "# Definition for a Node.\n",
    "class Node:\n",
    "    def __init__(self, val=None, children=None):\n",
    "        self.val = val\n",
    "        self.children = children"
   ]
  },
  {
   "cell_type": "code",
   "execution_count": 117,
   "metadata": {},
   "outputs": [],
   "source": [
    "class Assemble:\n",
    "    def __init__(self, data: list):\n",
    "        self.data = data\n",
    "    def assembleListNode(self):\n",
    "        data = self.data\n",
    "        head = ListNode(data.pop(0))\n",
    "        print(head.val, end = ' ')\n",
    "        curr = head\n",
    "        while len(data) != 0:\n",
    "            newNode = ListNode(data.pop(0))\n",
    "            print(newNode.val, end = ' ')\n",
    "            curr.next = newNode\n",
    "            \n",
    "            curr = curr.next\n",
    "        print('\\n')\n",
    "        return head"
   ]
  },
  {
   "cell_type": "code",
   "execution_count": 100,
   "metadata": {},
   "outputs": [],
   "source": [
    "def printListNode(head):\n",
    "    while head is not None:\n",
    "        print(head.val, end = ' ')\n",
    "        head = head.next"
   ]
  },
  {
   "cell_type": "markdown",
   "metadata": {},
   "source": []
  },
  {
   "cell_type": "markdown",
   "metadata": {},
   "source": [
    "## 11.2 Insertion Sort\n",
    "Sort a linked list using insertion sort.\n",
    "\n",
    "#### Algorthm:  \n",
    "\n",
    "1. Create sorted list\n",
    "\n",
    "2. Traverse the given list: insert current node to the sorted list\n",
    "\n",
    "3. Change the head to the sorted list\n",
    "    \n",
    "    "
   ]
  },
  {
   "cell_type": "code",
   "execution_count": 127,
   "metadata": {},
   "outputs": [],
   "source": [
    "class Solution_1102:\n",
    "    def __init__(self):\n",
    "        pass\n",
    "    def insertionSortList(self, head: ListNode) -> ListNode:\n",
    "\n",
    "        # Initialize\n",
    "        sortedHead = None\n",
    "\n",
    "        # Traverse the given list using curr\n",
    "        # and insert every node to sorted list\n",
    "        curr = head\n",
    "        while curr is not None:\n",
    "            \n",
    "            # Store next \n",
    "            nextInput = curr.next\n",
    "            \n",
    "            # Insert to the right position\n",
    "            sortedHead = insertionSort(sortedHead, curr)\n",
    "            \n",
    "            # Update curr\n",
    "            curr= nextInput\n",
    "        \n",
    "        # Update head to sorted list head\n",
    "        head = sortedHead\n",
    "        return head\n",
    "\n",
    "    def insertionSort(self, sortedHead, newNode):\n",
    "        current = None\n",
    "        \n",
    "        # Special case for the head end \n",
    "        if sortedHead == None or newNode.val < sortedHead.val:\n",
    "            newNode.next = sortedHead\n",
    "            sortedHead = newNode\n",
    "\n",
    "        else:\n",
    "            \n",
    "            # *** Locate the node before the point of insertion\n",
    "            # Note that it's using current.next.val to compare \n",
    "            current = sortedHead\n",
    "            while current.next != None and current.next.val < newNode.val:\n",
    "\n",
    "                current = current.next\n",
    "\n",
    "            # The insertion part\n",
    "            newNode.next = current.next\n",
    "            current.next = newNode\n",
    "\n",
    "        return sortedHead\n",
    "\n",
    "            "
   ]
  },
  {
   "cell_type": "code",
   "execution_count": 128,
   "metadata": {},
   "outputs": [
    {
     "name": "stdout",
     "output_type": "stream",
     "text": [
      "4 2 1 3 \n",
      "\n",
      "1 2 3 4 "
     ]
    }
   ],
   "source": [
    "a = [4,2,1,3]\n",
    "A = Assemble(a)\n",
    "test = A.assembleListNode()\n",
    "S = Solution_1102()\n",
    "output = S.insertionSortList(test)\n",
    "printListNode(output)"
   ]
  },
  {
   "cell_type": "markdown",
   "metadata": {},
   "source": [
    "## 11.3 Consecutive Characters "
   ]
  },
  {
   "cell_type": "markdown",
   "metadata": {},
   "source": [
    "Given a string s, the power of the string is the maximum length of a non-empty substring that contains only one unique character.  \n",
    "Return the power of the string.\n",
    "\n",
    "#### Intuition\n",
    "Keep an array power where power[i] is the maximum power of the i-th character.   \n",
    "Reture the max(array)"
   ]
  },
  {
   "cell_type": "code",
   "execution_count": 134,
   "metadata": {},
   "outputs": [],
   "source": [
    "class Solution:\n",
    "\n",
    "    def maxPower(self, s: str) -> int:\n",
    "        arr = [1] * len(s)\n",
    "        for i in range(len(s)):\n",
    "            if i != 0 and s[i] == s[i-1]:\n",
    "                arr[i] = arr[i-1] + 1\n",
    "            \n",
    "        return max(arr)"
   ]
  },
  {
   "cell_type": "code",
   "execution_count": 136,
   "metadata": {},
   "outputs": [
    {
     "data": {
      "text/plain": [
       "5"
      ]
     },
     "execution_count": 136,
     "metadata": {},
     "output_type": "execute_result"
    }
   ],
   "source": [
    "s = 'triplepillooooow'\n",
    "S = Solution\n",
    "S.maxPower(None,s)\n"
   ]
  },
  {
   "cell_type": "markdown",
   "metadata": {},
   "source": [
    "## 11.4 Minimun Height Trees"
   ]
  },
  {
   "cell_type": "code",
   "execution_count": 21,
   "metadata": {},
   "outputs": [],
   "source": [
    "class Solution:\n",
    "    def findMinHeightTrees(self, n: int, edges):\n",
    "        \n",
    "        # Base cases\n",
    "        if n <= 2 :\n",
    "            return [i for i in range(n)]\n",
    "        \n",
    "        # Initialize the adjacency list\n",
    "        neighbors = [set() for i in range(n)]\n",
    "        for start, end in edges:\n",
    "            neighbors[start].add(end)\n",
    "            neighbors[end].add(start)\n",
    "            \n",
    "        # The first round of leaves\n",
    "        leaves = []\n",
    "        for i in range(n):\n",
    "            # if it only has ONE neighbor, it's a LEAF\n",
    "            if len(neighbors[i]) == 1:\n",
    "                leaves.append(i)\n",
    "        #print(leaves)     \n",
    "        # Trim the leaves \n",
    "        # use remaining_nodes to decide if the loop is over\n",
    "        remaining_nodes = n\n",
    "        while remaining_nodes > 2:\n",
    "            remaining_nodes -= len(leaves)\n",
    "            new_leaves = []\n",
    "            \n",
    "            # remove the current leaves along with the edges\n",
    "            while leaves:\n",
    "                leaf = leaves.pop()\n",
    "                \n",
    "                # one leaf's EDGE at a time\n",
    "                for neighbor in neighbors[leaf]:\n",
    "                    neighbors[neighbor].remove(leaf)\n",
    "                    #print(neighbors)\n",
    "                    \n",
    "                    # if it only has ONE neighbor, it's a LEAF\n",
    "                    if len(neighbors[neighbor]) == 1:\n",
    "                        new_leaves.append(neighbor)\n",
    "            \n",
    "            leaves = new_leaves\n",
    "            #print('leaves:', leaves)\n",
    "        return leaves\n",
    "                    \n",
    "        "
   ]
  },
  {
   "cell_type": "code",
   "execution_count": 22,
   "metadata": {},
   "outputs": [
    {
     "name": "stdout",
     "output_type": "stream",
     "text": [
      "[0, 1, 2, 5]\n",
      "[{3}, {3}, {3}, {0, 1, 2, 4}, {3}, {4}]\n",
      "[{3}, {3}, {3}, {0, 1, 4}, {3}, {4}]\n",
      "[{3}, {3}, {3}, {0, 4}, {3}, {4}]\n",
      "[{3}, {3}, {3}, {4}, {3}, {4}]\n",
      "leaves: [4, 3]\n"
     ]
    },
    {
     "data": {
      "text/plain": [
       "[4, 3]"
      ]
     },
     "execution_count": 22,
     "metadata": {},
     "output_type": "execute_result"
    }
   ],
   "source": [
    "n= 6\n",
    "edges = [[3,0],[3,1],[3,2],[3,4],[5,4]]\n",
    "S = Solution\n",
    "S.findMinHeightTrees(None, n, edges)"
   ]
  },
  {
   "cell_type": "code",
   "execution_count": 4,
   "metadata": {},
   "outputs": [],
   "source": [
    "neighbors = [set() for i in range(n)]\n",
    "for start, end in edges:\n",
    "    neighbors[start].add(end)\n",
    "    neighbors[end].add(start)"
   ]
  },
  {
   "cell_type": "code",
   "execution_count": 5,
   "metadata": {},
   "outputs": [
    {
     "data": {
      "text/plain": [
       "[{1}, {0, 2, 3}, {1}, {1}]"
      ]
     },
     "execution_count": 5,
     "metadata": {},
     "output_type": "execute_result"
    }
   ],
   "source": [
    "neighbors"
   ]
  },
  {
   "cell_type": "markdown",
   "metadata": {},
   "source": [
    "### "
   ]
  }
 ],
 "metadata": {
  "kernelspec": {
   "display_name": "Python 3",
   "language": "python",
   "name": "python3"
  },
  "language_info": {
   "codemirror_mode": {
    "name": "ipython",
    "version": 3
   },
   "file_extension": ".py",
   "mimetype": "text/x-python",
   "name": "python",
   "nbconvert_exporter": "python",
   "pygments_lexer": "ipython3",
   "version": "3.7.4"
  }
 },
 "nbformat": 4,
 "nbformat_minor": 2
}

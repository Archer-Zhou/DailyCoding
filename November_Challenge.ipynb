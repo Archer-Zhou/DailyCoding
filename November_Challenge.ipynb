{
 "cells": [
  {
   "cell_type": "markdown",
   "metadata": {},
   "source": [
    "# November Challenge"
   ]
  },
  {
   "cell_type": "markdown",
   "metadata": {},
   "source": [
    "## Preliminary"
   ]
  },
  {
   "cell_type": "code",
   "execution_count": 4,
   "metadata": {},
   "outputs": [],
   "source": [
    "class TreeNode:\n",
    "    def __init__(self, val=0, left=None, right=None):\n",
    "        self.val = val\n",
    "        self.left = left\n",
    "        self.right = right"
   ]
  },
  {
   "cell_type": "code",
   "execution_count": 12,
   "metadata": {},
   "outputs": [],
   "source": [
    "class newNode:\n",
    "    def __init__(self, val=0, left=None, right=None):\n",
    "        self.val = val\n",
    "        self.left = left\n",
    "        self.right = right"
   ]
  },
  {
   "cell_type": "code",
   "execution_count": 7,
   "metadata": {},
   "outputs": [],
   "source": [
    "# Definition for singly-linked list.\n",
    "class ListNode:\n",
    "    def __init__(self, val=0, next=None):\n",
    "        self.val = val\n",
    "        self.next = next"
   ]
  },
  {
   "cell_type": "code",
   "execution_count": 8,
   "metadata": {},
   "outputs": [],
   "source": [
    "# Definition for a Node.\n",
    "class Node:\n",
    "    def __init__(self, val=None, children=None):\n",
    "        self.val = val\n",
    "        self.children = children"
   ]
  },
  {
   "cell_type": "code",
   "execution_count": 9,
   "metadata": {},
   "outputs": [],
   "source": [
    "class Assemble:\n",
    "    def __init__(self, data: list):\n",
    "        self.data = data\n",
    "    def assembleListNode(self):\n",
    "        data = self.data\n",
    "        head = ListNode(data.pop(0))\n",
    "        print(head.val, end = ' ')\n",
    "        curr = head\n",
    "        while len(data) != 0:\n",
    "            newNode = ListNode(data.pop(0))\n",
    "            print(newNode.val, end = ' ')\n",
    "            curr.next = newNode\n",
    "            \n",
    "            curr = curr.next\n",
    "        print('\\n')\n",
    "        return head"
   ]
  },
  {
   "cell_type": "code",
   "execution_count": 100,
   "metadata": {},
   "outputs": [],
   "source": [
    "def printListNode(head):\n",
    "    while head is not None:\n",
    "        print(head.val, end = ' ')\n",
    "        head = head.next"
   ]
  },
  {
   "cell_type": "markdown",
   "metadata": {},
   "source": []
  },
  {
   "cell_type": "markdown",
   "metadata": {},
   "source": [
    "## 11.2 Insertion Sort\n",
    "Sort a linked list using insertion sort.\n",
    "\n",
    "#### Algorthm:  \n",
    "\n",
    "1. Create sorted list\n",
    "\n",
    "2. Traverse the given list: insert current node to the sorted list\n",
    "\n",
    "3. Change the head to the sorted list\n",
    "    \n",
    "    "
   ]
  },
  {
   "cell_type": "code",
   "execution_count": 127,
   "metadata": {},
   "outputs": [],
   "source": [
    "class Solution_1102:\n",
    "    def __init__(self):\n",
    "        pass\n",
    "    def insertionSortList(self, head: ListNode) -> ListNode:\n",
    "\n",
    "        # Initialize\n",
    "        sortedHead = None\n",
    "\n",
    "        # Traverse the given list using curr\n",
    "        # and insert every node to sorted list\n",
    "        curr = head\n",
    "        while curr is not None:\n",
    "            \n",
    "            # Store next \n",
    "            nextInput = curr.next\n",
    "            \n",
    "            # Insert to the right position\n",
    "            sortedHead = insertionSort(sortedHead, curr)\n",
    "            \n",
    "            # Update curr\n",
    "            curr= nextInput\n",
    "        \n",
    "        # Update head to sorted list head\n",
    "        head = sortedHead\n",
    "        return head\n",
    "\n",
    "    def insertionSort(self, sortedHead, newNode):\n",
    "        current = None\n",
    "        \n",
    "        # Special case for the head end \n",
    "        if sortedHead == None or newNode.val < sortedHead.val:\n",
    "            newNode.next = sortedHead\n",
    "            sortedHead = newNode\n",
    "\n",
    "        else:\n",
    "            \n",
    "            # *** Locate the node before the point of insertion\n",
    "            # Note that it's using current.next.val to compare \n",
    "            current = sortedHead\n",
    "            while current.next != None and current.next.val < newNode.val:\n",
    "\n",
    "                current = current.next\n",
    "\n",
    "            # The insertion part\n",
    "            newNode.next = current.next\n",
    "            current.next = newNode\n",
    "\n",
    "        return sortedHead\n",
    "\n",
    "            "
   ]
  },
  {
   "cell_type": "code",
   "execution_count": 128,
   "metadata": {},
   "outputs": [
    {
     "name": "stdout",
     "output_type": "stream",
     "text": [
      "4 2 1 3 \n",
      "\n",
      "1 2 3 4 "
     ]
    }
   ],
   "source": [
    "a = [4,2,1,3]\n",
    "A = Assemble(a)\n",
    "test = A.assembleListNode()\n",
    "S = Solution_1102()\n",
    "output = S.insertionSortList(test)\n",
    "printListNode(output)"
   ]
  },
  {
   "cell_type": "markdown",
   "metadata": {},
   "source": [
    "## 11.3 Consecutive Characters "
   ]
  },
  {
   "cell_type": "markdown",
   "metadata": {},
   "source": [
    "Given a string s, the power of the string is the maximum length of a non-empty substring that contains only one unique character.  \n",
    "Return the power of the string.\n",
    "\n",
    "#### Intuition\n",
    "Keep an array power where power[i] is the maximum power of the i-th character.   \n",
    "Reture the max(array)"
   ]
  },
  {
   "cell_type": "code",
   "execution_count": 134,
   "metadata": {},
   "outputs": [],
   "source": [
    "class Solution:\n",
    "\n",
    "    def maxPower(self, s: str) -> int:\n",
    "        arr = [1] * len(s)\n",
    "        for i in range(len(s)):\n",
    "            if i != 0 and s[i] == s[i-1]:\n",
    "                arr[i] = arr[i-1] + 1\n",
    "            \n",
    "        return max(arr)"
   ]
  },
  {
   "cell_type": "code",
   "execution_count": 136,
   "metadata": {},
   "outputs": [
    {
     "data": {
      "text/plain": [
       "5"
      ]
     },
     "execution_count": 136,
     "metadata": {},
     "output_type": "execute_result"
    }
   ],
   "source": [
    "s = 'triplepillooooow'\n",
    "S = Solution\n",
    "S.maxPower(None,s)\n"
   ]
  },
  {
   "cell_type": "markdown",
   "metadata": {},
   "source": [
    "## 11.4 Minimun Height Trees"
   ]
  },
  {
   "cell_type": "code",
   "execution_count": 21,
   "metadata": {},
   "outputs": [],
   "source": [
    "class Solution:\n",
    "    def findMinHeightTrees(self, n: int, edges):\n",
    "        \n",
    "        # Base cases\n",
    "        if n <= 2 :\n",
    "            return [i for i in range(n)]\n",
    "        \n",
    "        # Initialize the adjacency list\n",
    "        neighbors = [set() for i in range(n)]\n",
    "        for start, end in edges:\n",
    "            neighbors[start].add(end)\n",
    "            neighbors[end].add(start)\n",
    "            \n",
    "        # The first round of leaves\n",
    "        leaves = []\n",
    "        for i in range(n):\n",
    "            # if it only has ONE neighbor, it's a LEAF\n",
    "            if len(neighbors[i]) == 1:\n",
    "                leaves.append(i)\n",
    "        #print(leaves)     \n",
    "        # Trim the leaves \n",
    "        # use remaining_nodes to decide if the loop is over\n",
    "        remaining_nodes = n\n",
    "        while remaining_nodes > 2:\n",
    "            remaining_nodes -= len(leaves)\n",
    "            new_leaves = []\n",
    "            \n",
    "            # remove the current leaves along with the edges\n",
    "            while leaves:\n",
    "                leaf = leaves.pop()\n",
    "                \n",
    "                # one leaf's EDGE at a time\n",
    "                for neighbor in neighbors[leaf]:\n",
    "                    neighbors[neighbor].remove(leaf)\n",
    "                    #print(neighbors)\n",
    "                    \n",
    "                    # if it only has ONE neighbor, it's a LEAF\n",
    "                    if len(neighbors[neighbor]) == 1:\n",
    "                        new_leaves.append(neighbor)\n",
    "            \n",
    "            leaves = new_leaves\n",
    "            #print('leaves:', leaves)\n",
    "        return leaves\n",
    "                    \n",
    "        "
   ]
  },
  {
   "cell_type": "code",
   "execution_count": 22,
   "metadata": {},
   "outputs": [
    {
     "name": "stdout",
     "output_type": "stream",
     "text": [
      "[0, 1, 2, 5]\n",
      "[{3}, {3}, {3}, {0, 1, 2, 4}, {3}, {4}]\n",
      "[{3}, {3}, {3}, {0, 1, 4}, {3}, {4}]\n",
      "[{3}, {3}, {3}, {0, 4}, {3}, {4}]\n",
      "[{3}, {3}, {3}, {4}, {3}, {4}]\n",
      "leaves: [4, 3]\n"
     ]
    },
    {
     "data": {
      "text/plain": [
       "[4, 3]"
      ]
     },
     "execution_count": 22,
     "metadata": {},
     "output_type": "execute_result"
    }
   ],
   "source": [
    "n= 6\n",
    "edges = [[3,0],[3,1],[3,2],[3,4],[5,4]]\n",
    "S = Solution\n",
    "S.findMinHeightTrees(None, n, edges)"
   ]
  },
  {
   "cell_type": "code",
   "execution_count": 4,
   "metadata": {},
   "outputs": [],
   "source": [
    "neighbors = [set() for i in range(n)]\n",
    "for start, end in edges:\n",
    "    neighbors[start].add(end)\n",
    "    neighbors[end].add(start)"
   ]
  },
  {
   "cell_type": "code",
   "execution_count": 5,
   "metadata": {},
   "outputs": [
    {
     "data": {
      "text/plain": [
       "[{1}, {0, 2, 3}, {1}, {1}]"
      ]
     },
     "execution_count": 5,
     "metadata": {},
     "output_type": "execute_result"
    }
   ],
   "source": [
    "neighbors"
   ]
  },
  {
   "cell_type": "markdown",
   "metadata": {},
   "source": [
    "### "
   ]
  },
  {
   "cell_type": "code",
   "execution_count": null,
   "metadata": {},
   "outputs": [],
   "source": []
  },
  {
   "cell_type": "markdown",
   "metadata": {},
   "source": [
    "## 11.5 Minimum Cost to Move Chips to The Same Position\n",
    "Input: position = [2,2,2,3,3]  \n",
    "Output: 2"
   ]
  },
  {
   "cell_type": "code",
   "execution_count": 5,
   "metadata": {},
   "outputs": [],
   "source": [
    "class MinimunCost:\n",
    "    def __init__(self):\n",
    "        pass\n",
    "    \n",
    "    # My Initial Solution\n",
    "    def minCostToMoveChips_MySolotion(self, position):\n",
    "        even = 0\n",
    "        odd = 0\n",
    "        \n",
    "        for i in position:\n",
    "            if i%2 ==0:\n",
    "                even += 1\n",
    "            if i%2 == 1:\n",
    "                odd += 1\n",
    "        return min(even, odd)\n",
    "    \n",
    "    # Fastest Solution\n",
    "    def minCostToMoveChips_BestSolution(self, position) -> int:\n",
    "        # use dictionary to store the position(key) and the number of  position(value)\n",
    "        d = {}\n",
    "        even = 0\n",
    "        odd = 0\n",
    "        \n",
    "        for i in position:\n",
    "            if i not in d:\n",
    "                d[i] = 1\n",
    "            else:\n",
    "                d[i] += 1\n",
    "                \n",
    "        # Only need to culculate the key in the dictionary instead of every coins' position which  could overlaps a lot \n",
    "        for i in d:\n",
    "            if i % 2 == 0:\n",
    "                even += d[i]\n",
    "            else:\n",
    "                odd += d[i]\n",
    "                \n",
    "        return min(even, odd)\n",
    "        "
   ]
  },
  {
   "cell_type": "code",
   "execution_count": 7,
   "metadata": {},
   "outputs": [
    {
     "data": {
      "text/plain": [
       "2"
      ]
     },
     "execution_count": 7,
     "metadata": {},
     "output_type": "execute_result"
    }
   ],
   "source": [
    "position = [2,2,2,3,3]\n",
    "m = MinimunCost()\n",
    "m.minCostToMoveChips_BestSolution(position)"
   ]
  },
  {
   "cell_type": "markdown",
   "metadata": {},
   "source": [
    "## 11.6 Find the Smallest Divisor Given a Threshold\n",
    "\n",
    "Given an array of integers nums and an integer threshold, we will choose a positive integer divisor and divide all the array by it and sum the result of the division. Find the smallest divisor such that the result mentioned above is less than or equal to threshold.\n",
    "\n",
    "Each result of division is rounded to the nearest integer greater than or equal to that element. (For example: 7/3 = 3 and 10/2 = 5).\n",
    "\n",
    "It is guaranteed that there will be an answer."
   ]
  },
  {
   "cell_type": "code",
   "execution_count": 24,
   "metadata": {},
   "outputs": [],
   "source": [
    "from math import ceil\n",
    "# math.ceil()\n",
    "# math.floor()\n",
    "\n",
    "\n",
    "class SmallestDivisor:\n",
    "    def __init__(self):\n",
    "        pass\n",
    "    \n",
    "    # Brute-Force\n",
    "    # Status: Time Limit Exceeded\n",
    "    def smallestDivisor(self, nums, threshold) -> int:\n",
    "        divisor = 1\n",
    "        nsum = sum(nums)\n",
    "        while nsum > threshold:\n",
    "            divisor += 1\n",
    "            nsum = 0\n",
    "            for n in nums:\n",
    "                re = n//divisor if n%divisor == 0 else int(n//divisor)+1\n",
    "                # instead can use ceil(n/divisor) to compute\n",
    "                nsum += re\n",
    "        return divisor\n",
    "    \n",
    "    # Use binary search to reduce the time complexity.\n",
    "    def smallestDivisor2(self, nums, threshold): \n",
    "        \n",
    "        # lambda \n",
    "        compute_sum = lambda x: sum([ceil(n/x) for n in nums]) \n",
    "        \n",
    "        # find limits\n",
    "        left = 1\n",
    "        right = max(nums)\n",
    "        \n",
    "        # binary search\n",
    "        while left <= right:\n",
    "            \n",
    "            # bitwise operators: >> 1  shift to right by 5 bits meaning divided by 2\n",
    "            pivot = (left + right) >> 1\n",
    "            num = compute_sum(pivot)\n",
    "            \n",
    "            if num > threshold:\n",
    "                left = pivot + 1\n",
    "                \n",
    "            else:\n",
    "                right = pivot - 1\n",
    "                \n",
    "        return left\n",
    "        \n",
    "        # Fastest solution\n",
    "        # use array apparently can accelerate. \n",
    "        # sum(ceil(nums/mid))\n",
    "    def smallestDivisor3(self, nums, threshold: int) -> int:\n",
    "        nums = array(nums)\n",
    "        left, right = 1, max(nums)\n",
    "        while left + 1 < right:\n",
    "            mid = (left + right) // 2\n",
    "            sum_ = sum(ceil(nums / mid))\n",
    "            if sum_ > threshold: left = mid\n",
    "            else: right = mid\n",
    "        sum_ = sum(ceil(nums / left))\n",
    "        \n",
    "        return left if sum_ <= threshold else right"
   ]
  },
  {
   "cell_type": "code",
   "execution_count": 19,
   "metadata": {},
   "outputs": [
    {
     "data": {
      "text/plain": [
       "5"
      ]
     },
     "execution_count": 19,
     "metadata": {},
     "output_type": "execute_result"
    }
   ],
   "source": [
    "nums = [1,2,5,9]\n",
    "threshold = 6\n",
    "\n",
    "S = SmallestDivisor()\n",
    "S.smallestDivisor2(nums, threshold)"
   ]
  },
  {
   "cell_type": "code",
   "execution_count": 20,
   "metadata": {},
   "outputs": [
    {
     "data": {
      "text/plain": [
       "3"
      ]
     },
     "execution_count": 20,
     "metadata": {},
     "output_type": "execute_result"
    }
   ],
   "source": [
    "nums = [2,3,5,7,11]\n",
    "threshold = 11\n",
    "S.smallestDivisor(nums, threshold)"
   ]
  },
  {
   "cell_type": "markdown",
   "metadata": {},
   "source": [
    "## 11.7 Add Two Numbers II\n",
    "You are given two non-empty linked lists representing two non-negative integers. The most significant digit comes first and each of their nodes contain a single digit. Add the two numbers and return it as a linked list.\n",
    "\n",
    "You may assume the two numbers do not contain any leading zero, except the number 0 itself.\n",
    "\n",
    "Input: (7 -> 2 -> 4 -> 3) + (5 -> 6 -> 4)  \n",
    "Output: 7 -> 8 -> 0 -> 7"
   ]
  },
  {
   "cell_type": "code",
   "execution_count": 27,
   "metadata": {},
   "outputs": [],
   "source": [
    "# Definition for singly-linked list.\n",
    "class ListNode:\n",
    "    def __init__(self, val=0, next=None):\n",
    "        self.val = val\n",
    "        self.next = next\n",
    "class Solution:\n",
    "    def __init__(self):\n",
    "        pass\n",
    "    def addTwoNumbers(self, l1: ListNode, l2: ListNode) -> ListNode:\n",
    "        n1 = 0\n",
    "        n2 = 0\n",
    "        \n",
    "        # find the numbers and add them\n",
    "        while l1: \n",
    "            n1 *= 10\n",
    "            n1 += l1.val\n",
    "            l1 = l1.next\n",
    "        while l2: \n",
    "            n2 *= 10\n",
    "            n2 += l2.val\n",
    "            l2 = l2.next\n",
    "            \n",
    "        n = n1 + n2\n",
    "        \n",
    "        # create a new list from the number we got\n",
    "        head = ListNode(0)\n",
    "        tail = None\n",
    "        while n > 0:\n",
    "            # start at the last node to create the LinkedList\n",
    "            head = ListNode(n%10)\n",
    "            n //= 10\n",
    "            head.next = tail\n",
    "            tail = head\n",
    "        return head"
   ]
  },
  {
   "cell_type": "markdown",
   "metadata": {},
   "source": [
    "## 11.8 Binary Tree Tilt\n",
    "Given the root of a binary tree, return the sum of every tree node's tilt.\n",
    "\n",
    "The tilt of a tree node is the absolute difference between the sum of all left subtree node values and all right subtree node values. If a node does not have a left child, then the sum of the left subtree node values is treated as 0. The rule is similar if there the node does not have a right child.\n",
    "\n",
    "#### Intuition\n",
    "The idea is to recursively traverse tree. While traversing, we keep track of two things, sum of subtree rooted under current node, tilt of current node. Sum is needed to compute tilt of parent."
   ]
  },
  {
   "cell_type": "code",
   "execution_count": 4,
   "metadata": {},
   "outputs": [],
   "source": [
    "class Solution:\n",
    "    def findTilt(self, root: TreeNode) -> int:\n",
    "        \n",
    "        #tilt: mutable object to have in-place changes\n",
    "        tilt = [0]\n",
    "        self.traversal(root, tilt)\n",
    "        return tilt[0]\n",
    "        \n",
    "    # recursion\n",
    "    def traversal(self, root, tilt):\n",
    "        \n",
    "        if not root:\n",
    "            return 0\n",
    "        \n",
    "        left = self.traversal(root.left, tilt)\n",
    "        right = self.traversal(root.right, tilt)\n",
    "        \n",
    "        tilt[0] += abs(left - right)\n",
    "        \n",
    "        return left + right + root.val"
   ]
  },
  {
   "cell_type": "markdown",
   "metadata": {},
   "source": [
    "## 11.9 Maximum Difference Between Node and Ancestor\n",
    "Given the root of a binary tree, find the maximum value V for which there exist different nodes A and B where V = |A.val - B.val| and A is an ancestor of B.\n",
    "\n",
    "A node A is an ancestor of B if either: any child of A is equal to B, or any child of A is an ancestor of B.\n",
    "\n",
    "#### Intuition\n",
    "An insight is that:\n",
    "\n",
    "Given any two nodes on the same root-to-leaf path, they must have the required ancestor relationship.\n",
    "Therefore, we just need to record the maximum and minimum values of all root-to-leaf paths and return the maximum difference.\n",
    "\n",
    "To achieve this, we can record the maximum and minimum values during the recursion and return the difference when encountering leaves."
   ]
  },
  {
   "cell_type": "code",
   "execution_count": 24,
   "metadata": {},
   "outputs": [],
   "source": [
    "# Definition for a binary tree node.\n",
    "# class TreeNode:\n",
    "#     def __init__(self, val=0, left=None, right=None):\n",
    "#         self.val = val\n",
    "#         self.left = left\n",
    "#         self.right = right\n",
    "class Solution:\n",
    "    def maxAncestorDiff(self, root: TreeNode) -> int:\n",
    "        if not root:\n",
    "            return 0\n",
    "        # The first argument node is the current node, and the second argument cur_max and third argument \n",
    "        # cur_min are the maximum and minimum values along the root to the current node, respectively.\n",
    "        def recursion(node, cur_max, cur_min):\n",
    "            # return  when encountering leaves.\n",
    "            if not node:\n",
    "                return cur_max - cur_min\n",
    "            \n",
    "            cur_max = max(node.val, cur_max)\n",
    "            cur_min = min(node.val, cur_min)\n",
    "            \n",
    "            left = recursion(node.left, cur_max, cur_min)\n",
    "            right = recursion(node.right, cur_max, cur_min)\n",
    "            \n",
    "            \n",
    "            return max(left, right)\n",
    "        return recursion(root, root.val, root.val)"
   ]
  },
  {
   "cell_type": "markdown",
   "metadata": {},
   "source": [
    "## 11.10 Flipping an Image\n",
    "Given a binary matrix A, we want to flip the image horizontally, then invert it, and return the resulting image.\n",
    "\n",
    "To flip an image horizontally means that each row of the image is reversed.  For example, flipping [1, 1, 0] horizontally results in [0, 1, 1].\n",
    "\n",
    "To invert an image means that each 0 is replaced by 1, and each 1 is replaced by 0. For example, inverting [0, 1, 1] results in [1, 0, 0]."
   ]
  },
  {
   "cell_type": "code",
   "execution_count": 27,
   "metadata": {},
   "outputs": [],
   "source": [
    "class Solution:\n",
    "    def flipAndInvertImage(self, A):\n",
    "        \n",
    "        # list comprehension\n",
    "        # list slicing\n",
    "        result = [[1 - val for val in row[::-1]] for row in A]\n",
    "        \n",
    "        return result"
   ]
  },
  {
   "cell_type": "markdown",
   "metadata": {},
   "source": [
    "####  SLICING syntax has supported an optional third step or stride argument."
   ]
  },
  {
   "cell_type": "code",
   "execution_count": 34,
   "metadata": {},
   "outputs": [
    {
     "data": {
      "text/plain": [
       "[0, 1, 2, 3, 4, 5, 6, 7, 8, 9]"
      ]
     },
     "execution_count": 34,
     "metadata": {},
     "output_type": "execute_result"
    }
   ],
   "source": [
    "l = list(range(10))\n",
    "l"
   ]
  },
  {
   "cell_type": "code",
   "execution_count": 35,
   "metadata": {},
   "outputs": [
    {
     "data": {
      "text/plain": [
       "[0, 2, 4, 6, 8]"
      ]
     },
     "execution_count": 35,
     "metadata": {},
     "output_type": "execute_result"
    }
   ],
   "source": [
    "l[::2] # stride = 2"
   ]
  },
  {
   "cell_type": "code",
   "execution_count": 36,
   "metadata": {},
   "outputs": [
    {
     "data": {
      "text/plain": [
       "[9, 8, 7, 6, 5, 4, 3, 2, 1, 0]"
      ]
     },
     "execution_count": 36,
     "metadata": {},
     "output_type": "execute_result"
    }
   ],
   "source": [
    "l[::-1] # in reverse order"
   ]
  },
  {
   "cell_type": "markdown",
   "metadata": {},
   "source": [
    "This also works for tuples, arrays, and strings"
   ]
  },
  {
   "cell_type": "markdown",
   "metadata": {},
   "source": [
    "## 11.11 Valid Square\n",
    "Given the coordinates of four points in 2D space, return whether the four points could construct a square.\n",
    "\n",
    "The coordinate (x,y) of a point is represented by an integer array with two integers"
   ]
  },
  {
   "cell_type": "code",
   "execution_count": 23,
   "metadata": {},
   "outputs": [],
   "source": [
    "from math import sqrt\n",
    "class Solution:\n",
    "    def __init__(self):\n",
    "        pass\n",
    "    def validSquare(self, p1, p2, p3, p4) -> bool:\n",
    "        dis = []\n",
    "        def OJ(x, y):\n",
    "            return sqrt((x[1] - y[1])**2 + (x[0] - y[0])**2)\n",
    "        \n",
    "        dis.append(OJ(p1, p2))\n",
    "        dis.append(OJ(p1, p3))\n",
    "        dis.append(OJ(p1, p4))\n",
    "        dis.append(OJ(p2, p3))\n",
    "        dis.append(OJ(p2, p4))\n",
    "        dis.append(OJ(p3, p4))\n",
    "        \n",
    "        if len(set(dis)) == 1:\n",
    "            return False\n",
    "        \n",
    "        dis = sorted(dis)\n",
    "        \n",
    "        if dis[0]==dis[1] == dis[2] == dis[3] and dis[4] == dis[5] :\n",
    "            return True\n",
    "        \n",
    "        else:\n",
    "            return False\n",
    "    \n",
    "    # the coding is more comprehensive but it takes a little bit more time\n",
    "    def moreElegent(self, p1, p2, p3, p4):\n",
    "        dis = []\n",
    "        def OJ(x, y):\n",
    "            return sqrt((x[1] - y[1])**2 + (x[0] - y[0])**2)\n",
    "        \n",
    "        dis.append(OJ(p1, p2))\n",
    "        dis.append(OJ(p1, p3))\n",
    "        dis.append(OJ(p1, p4))\n",
    "        dis.append(OJ(p2, p3))\n",
    "        dis.append(OJ(p2, p4))\n",
    "        dis.append(OJ(p3, p4))\n",
    "        \n",
    "        dis_set = sorted(set(dis))\n",
    "        \n",
    "        # In any square there will be 4 lines of same length and 2 lines of same length\n",
    "        # the len of 4 ones < the len of 2 ones\n",
    "        if len(dis_set) == 2 and dis.count(dis_set[0]) == 4 and dis.count(dis_set[1]):\n",
    "            return True\n",
    "        else:\n",
    "            return False\n",
    "        \n",
    "        \n",
    "    def distance(self,p1,p2):\n",
    "        x1,y1 = p1\n",
    "        x2,y2 = p2 \n",
    "        return math.sqrt(((x2 - x1) ** 2) + ((y2 - y1) ** 2))\n",
    "        \n",
    "    # The supposely fastest way \n",
    "    def others_validSquare(self, p1, p2 , p3, p4) -> bool:\n",
    "\n",
    "        points = [[p1,p2],[p1,p3],[p1,p4],[p2,p3],[p2,p4],[p3,p4]]\n",
    "        res=[]\n",
    "\n",
    "        for i in points:\n",
    "            res.append(self.distance(i[0],i[1]))\n",
    "            \n",
    "        # use dictionary to store numbers of the same length edge\n",
    "        h={}\n",
    "        for i in res:\n",
    "            if i not in h:\n",
    "                h[i] = 1\n",
    "            else:\n",
    "                h[i]+=1\n",
    "        for i in h.values():\n",
    "            if (i==2 or i==4) and len(h)==2:\n",
    "                continue\n",
    "            else:\n",
    "                return False\n",
    "        return True\n",
    "                \n",
    "        "
   ]
  },
  {
   "cell_type": "code",
   "execution_count": 24,
   "metadata": {},
   "outputs": [],
   "source": [
    "s = Solution()\n",
    "p1, p2, p3, p4 =[0,0],[1,1],[0,0],[0,0]"
   ]
  },
  {
   "cell_type": "code",
   "execution_count": 25,
   "metadata": {},
   "outputs": [
    {
     "data": {
      "text/plain": [
       "False"
      ]
     },
     "execution_count": 25,
     "metadata": {},
     "output_type": "execute_result"
    }
   ],
   "source": [
    "s.validSquare(p1, p2, p3, p4)"
   ]
  },
  {
   "cell_type": "markdown",
   "metadata": {},
   "source": [
    "## 11.12 Permutation II\n",
    "Given a collection of numbers, nums, that might contain duplicates, return all possible unique permutations in any order."
   ]
  },
  {
   "cell_type": "code",
   "execution_count": 44,
   "metadata": {},
   "outputs": [],
   "source": [
    "from collections import Counter\n",
    "class Solution:\n",
    "    def __init__(self):\n",
    "        pass\n",
    "    \n",
    "    def permuteUnique(self, nums):\n",
    "        '''\n",
    "        nums: list\n",
    "        re: the results we want\n",
    "        comb: the combination we try\n",
    "        counter: Counter(nums)\n",
    "        '''\n",
    "        \n",
    "        re = []\n",
    "        \n",
    "        def backtrack(comb, counter):\n",
    "            if len(comb) == len(nums):\n",
    "                \n",
    "                #re.append(comb)\n",
    "                # make a deep COPY of the resulting permutation,\n",
    "                # since the permutation would be backtracked later.\n",
    "                re.append(list(comb))\n",
    "                return 0\n",
    "            \n",
    "                \n",
    "            for num in counter:\n",
    "                if counter[num] > 0:\n",
    "                    # add this number into the current combination\n",
    "                    comb.append(num)\n",
    "                    counter[num] -= 1\n",
    "                    \n",
    "                    backtrack(comb, counter)\n",
    "                \n",
    "                    # revert the choice for the next exploration\n",
    "                    comb.pop()\n",
    "                    counter[num] += 1\n",
    "                \n",
    "        backtrack([], Counter(nums))\n",
    "        \n",
    "        return re\n",
    "            \n",
    "            \n",
    "            \n",
    "            \n",
    "            "
   ]
  },
  {
   "cell_type": "code",
   "execution_count": 45,
   "metadata": {},
   "outputs": [],
   "source": [
    "s = Solution()"
   ]
  },
  {
   "cell_type": "code",
   "execution_count": 46,
   "metadata": {},
   "outputs": [
    {
     "data": {
      "text/plain": [
       "[[], [], []]"
      ]
     },
     "execution_count": 46,
     "metadata": {},
     "output_type": "execute_result"
    }
   ],
   "source": [
    "s.permuteUnique([1,1,2])"
   ]
  },
  {
   "cell_type": "code",
   "execution_count": null,
   "metadata": {},
   "outputs": [],
   "source": []
  }
 ],
 "metadata": {
  "kernelspec": {
   "display_name": "Python 3",
   "language": "python",
   "name": "python3"
  },
  "language_info": {
   "codemirror_mode": {
    "name": "ipython",
    "version": 3
   },
   "file_extension": ".py",
   "mimetype": "text/x-python",
   "name": "python",
   "nbconvert_exporter": "python",
   "pygments_lexer": "ipython3",
   "version": "3.7.4"
  }
 },
 "nbformat": 4,
 "nbformat_minor": 2
}

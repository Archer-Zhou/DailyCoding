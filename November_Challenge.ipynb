{
 "cells": [
  {
   "cell_type": "markdown",
   "metadata": {},
   "source": [
    "# November Challenge"
   ]
  },
  {
   "cell_type": "markdown",
   "metadata": {},
   "source": [
    "## Preliminary"
   ]
  },
  {
   "cell_type": "code",
   "execution_count": 3,
   "metadata": {},
   "outputs": [],
   "source": [
    "class TreeNode:\n",
    "    def __init__(self, val=0, left=None, right=None):\n",
    "        self.val = val\n",
    "        self.left = left\n",
    "        self.right = right"
   ]
  },
  {
   "cell_type": "code",
   "execution_count": 2,
   "metadata": {},
   "outputs": [],
   "source": [
    "# Definition for singly-linked list.\n",
    "class ListNode:\n",
    "    def __init__(self, val=0, next=None):\n",
    "        self.val = val\n",
    "        self.next = next"
   ]
  },
  {
   "cell_type": "code",
   "execution_count": 1,
   "metadata": {},
   "outputs": [],
   "source": [
    "# Definition for a Node.\n",
    "class Node:\n",
    "    def __init__(self, val=None, children=None):\n",
    "        self.val = val\n",
    "        self.children = children"
   ]
  },
  {
   "cell_type": "code",
   "execution_count": 117,
   "metadata": {},
   "outputs": [],
   "source": [
    "class Assemble:\n",
    "    def __init__(self, data: list):\n",
    "        self.data = data\n",
    "    def assembleListNode(self):\n",
    "        data = self.data\n",
    "        head = ListNode(data.pop(0))\n",
    "        print(head.val, end = ' ')\n",
    "        curr = head\n",
    "        while len(data) != 0:\n",
    "            newNode = ListNode(data.pop(0))\n",
    "            print(newNode.val, end = ' ')\n",
    "            curr.next = newNode\n",
    "            \n",
    "            curr = curr.next\n",
    "        print('\\n')\n",
    "        return head"
   ]
  },
  {
   "cell_type": "code",
   "execution_count": 100,
   "metadata": {},
   "outputs": [],
   "source": [
    "def printListNode(head):\n",
    "    while head is not None:\n",
    "        print(head.val, end = ' ')\n",
    "        head = head.next"
   ]
  },
  {
   "cell_type": "markdown",
   "metadata": {},
   "source": []
  },
  {
   "cell_type": "markdown",
   "metadata": {},
   "source": [
    "## 11.2 Insertion Sort\n",
    "Sort a linked list using insertion sort.\n",
    "\n",
    "#### Algorthm:  \n",
    "\n",
    "1. Create sorted list\n",
    "\n",
    "2. Traverse the given list: insert current node to the sorted list\n",
    "\n",
    "3. Change the head to the sorted list\n",
    "    \n",
    "    "
   ]
  },
  {
   "cell_type": "code",
   "execution_count": 127,
   "metadata": {},
   "outputs": [],
   "source": [
    "class Solution_1102:\n",
    "    def __init__(self):\n",
    "        pass\n",
    "    def insertionSortList(self, head: ListNode) -> ListNode:\n",
    "\n",
    "        # Initialize\n",
    "        sortedHead = None\n",
    "\n",
    "        # Traverse the given list using curr\n",
    "        # and insert every node to sorted list\n",
    "        curr = head\n",
    "        while curr is not None:\n",
    "            \n",
    "            # Store next \n",
    "            nextInput = curr.next\n",
    "            \n",
    "            # Insert to the right position\n",
    "            sortedHead = insertionSort(sortedHead, curr)\n",
    "            \n",
    "            # Update curr\n",
    "            curr= nextInput\n",
    "        \n",
    "        # Update head to sorted list head\n",
    "        head = sortedHead\n",
    "        return head\n",
    "\n",
    "    def insertionSort(self, sortedHead, newNode):\n",
    "        current = None\n",
    "        \n",
    "        # Special case for the head end \n",
    "        if sortedHead == None or newNode.val < sortedHead.val:\n",
    "            newNode.next = sortedHead\n",
    "            sortedHead = newNode\n",
    "\n",
    "        else:\n",
    "            \n",
    "            # *** Locate the node before the point of insertion\n",
    "            # Note that it's using current.next.val to compare \n",
    "            current = sortedHead\n",
    "            while current.next != None and current.next.val < newNode.val:\n",
    "\n",
    "                current = current.next\n",
    "\n",
    "            # The insertion part\n",
    "            newNode.next = current.next\n",
    "            current.next = newNode\n",
    "\n",
    "        return sortedHead\n",
    "\n",
    "            "
   ]
  },
  {
   "cell_type": "code",
   "execution_count": 128,
   "metadata": {},
   "outputs": [
    {
     "name": "stdout",
     "output_type": "stream",
     "text": [
      "4 2 1 3 \n",
      "\n",
      "1 2 3 4 "
     ]
    }
   ],
   "source": [
    "a = [4,2,1,3]\n",
    "A = Assemble(a)\n",
    "test = A.assembleListNode()\n",
    "S = Solution_1102()\n",
    "output = S.insertionSortList(test)\n",
    "printListNode(output)"
   ]
  },
  {
   "cell_type": "markdown",
   "metadata": {},
   "source": [
    "## 11.3 Consecutive Characters "
   ]
  },
  {
   "cell_type": "markdown",
   "metadata": {},
   "source": [
    "Given a string s, the power of the string is the maximum length of a non-empty substring that contains only one unique character.  \n",
    "Return the power of the string.\n",
    "\n",
    "#### Intuition\n",
    "Keep an array power where power[i] is the maximum power of the i-th character.   \n",
    "Reture the max(array)"
   ]
  },
  {
   "cell_type": "code",
   "execution_count": 134,
   "metadata": {},
   "outputs": [],
   "source": [
    "class Solution:\n",
    "\n",
    "    def maxPower(self, s: str) -> int:\n",
    "        arr = [1] * len(s)\n",
    "        for i in range(len(s)):\n",
    "            if i != 0 and s[i] == s[i-1]:\n",
    "                arr[i] = arr[i-1] + 1\n",
    "            \n",
    "        return max(arr)"
   ]
  },
  {
   "cell_type": "code",
   "execution_count": 136,
   "metadata": {},
   "outputs": [
    {
     "data": {
      "text/plain": [
       "5"
      ]
     },
     "execution_count": 136,
     "metadata": {},
     "output_type": "execute_result"
    }
   ],
   "source": [
    "s = 'triplepillooooow'\n",
    "S = Solution\n",
    "S.maxPower(None,s)\n"
   ]
  },
  {
   "cell_type": "markdown",
   "metadata": {},
   "source": [
    "## 11.4 Minimun Height Trees"
   ]
  },
  {
   "cell_type": "code",
   "execution_count": 21,
   "metadata": {},
   "outputs": [],
   "source": [
    "class Solution:\n",
    "    def findMinHeightTrees(self, n: int, edges):\n",
    "        \n",
    "        # Base cases\n",
    "        if n <= 2 :\n",
    "            return [i for i in range(n)]\n",
    "        \n",
    "        # Initialize the adjacency list\n",
    "        neighbors = [set() for i in range(n)]\n",
    "        for start, end in edges:\n",
    "            neighbors[start].add(end)\n",
    "            neighbors[end].add(start)\n",
    "            \n",
    "        # The first round of leaves\n",
    "        leaves = []\n",
    "        for i in range(n):\n",
    "            # if it only has ONE neighbor, it's a LEAF\n",
    "            if len(neighbors[i]) == 1:\n",
    "                leaves.append(i)\n",
    "        #print(leaves)     \n",
    "        # Trim the leaves \n",
    "        # use remaining_nodes to decide if the loop is over\n",
    "        remaining_nodes = n\n",
    "        while remaining_nodes > 2:\n",
    "            remaining_nodes -= len(leaves)\n",
    "            new_leaves = []\n",
    "            \n",
    "            # remove the current leaves along with the edges\n",
    "            while leaves:\n",
    "                leaf = leaves.pop()\n",
    "                \n",
    "                # one leaf's EDGE at a time\n",
    "                for neighbor in neighbors[leaf]:\n",
    "                    neighbors[neighbor].remove(leaf)\n",
    "                    #print(neighbors)\n",
    "                    \n",
    "                    # if it only has ONE neighbor, it's a LEAF\n",
    "                    if len(neighbors[neighbor]) == 1:\n",
    "                        new_leaves.append(neighbor)\n",
    "            \n",
    "            leaves = new_leaves\n",
    "            #print('leaves:', leaves)\n",
    "        return leaves\n",
    "                    \n",
    "        "
   ]
  },
  {
   "cell_type": "code",
   "execution_count": 22,
   "metadata": {},
   "outputs": [
    {
     "name": "stdout",
     "output_type": "stream",
     "text": [
      "[0, 1, 2, 5]\n",
      "[{3}, {3}, {3}, {0, 1, 2, 4}, {3}, {4}]\n",
      "[{3}, {3}, {3}, {0, 1, 4}, {3}, {4}]\n",
      "[{3}, {3}, {3}, {0, 4}, {3}, {4}]\n",
      "[{3}, {3}, {3}, {4}, {3}, {4}]\n",
      "leaves: [4, 3]\n"
     ]
    },
    {
     "data": {
      "text/plain": [
       "[4, 3]"
      ]
     },
     "execution_count": 22,
     "metadata": {},
     "output_type": "execute_result"
    }
   ],
   "source": [
    "n= 6\n",
    "edges = [[3,0],[3,1],[3,2],[3,4],[5,4]]\n",
    "S = Solution\n",
    "S.findMinHeightTrees(None, n, edges)"
   ]
  },
  {
   "cell_type": "code",
   "execution_count": 4,
   "metadata": {},
   "outputs": [],
   "source": [
    "neighbors = [set() for i in range(n)]\n",
    "for start, end in edges:\n",
    "    neighbors[start].add(end)\n",
    "    neighbors[end].add(start)"
   ]
  },
  {
   "cell_type": "code",
   "execution_count": 5,
   "metadata": {},
   "outputs": [
    {
     "data": {
      "text/plain": [
       "[{1}, {0, 2, 3}, {1}, {1}]"
      ]
     },
     "execution_count": 5,
     "metadata": {},
     "output_type": "execute_result"
    }
   ],
   "source": [
    "neighbors"
   ]
  },
  {
   "cell_type": "markdown",
   "metadata": {},
   "source": [
    "### "
   ]
  },
  {
   "cell_type": "code",
   "execution_count": null,
   "metadata": {},
   "outputs": [],
   "source": []
  },
  {
   "cell_type": "markdown",
   "metadata": {},
   "source": [
    "## 11.5 Minimum Cost to Move Chips to The Same Position\n",
    "Input: position = [2,2,2,3,3]  \n",
    "Output: 2"
   ]
  },
  {
   "cell_type": "code",
   "execution_count": 5,
   "metadata": {},
   "outputs": [],
   "source": [
    "class MinimunCost:\n",
    "    def __init__(self):\n",
    "        pass\n",
    "    \n",
    "    # My Initial Solution\n",
    "    def minCostToMoveChips_MySolotion(self, position):\n",
    "        even = 0\n",
    "        odd = 0\n",
    "        \n",
    "        for i in position:\n",
    "            if i%2 ==0:\n",
    "                even += 1\n",
    "            if i%2 == 1:\n",
    "                odd += 1\n",
    "        return min(even, odd)\n",
    "    \n",
    "    # Fastest Solution\n",
    "    def minCostToMoveChips_BestSolution(self, position) -> int:\n",
    "        # use dictionary to store the position(key) and the number of  position(value)\n",
    "        d = {}\n",
    "        even = 0\n",
    "        odd = 0\n",
    "        \n",
    "        for i in position:\n",
    "            if i not in d:\n",
    "                d[i] = 1\n",
    "            else:\n",
    "                d[i] += 1\n",
    "                \n",
    "        # Only need to culculate the key in the dictionary instead of every coins' position which  could overlaps a lot \n",
    "        for i in d:\n",
    "            if i % 2 == 0:\n",
    "                even += d[i]\n",
    "            else:\n",
    "                odd += d[i]\n",
    "                \n",
    "        return min(even, odd)\n",
    "        "
   ]
  },
  {
   "cell_type": "code",
   "execution_count": 7,
   "metadata": {},
   "outputs": [
    {
     "data": {
      "text/plain": [
       "2"
      ]
     },
     "execution_count": 7,
     "metadata": {},
     "output_type": "execute_result"
    }
   ],
   "source": [
    "position = [2,2,2,3,3]\n",
    "m = MinimunCost()\n",
    "m.minCostToMoveChips_BestSolution(position)"
   ]
  },
  {
   "cell_type": "markdown",
   "metadata": {},
   "source": [
    "## 11.6 Find the Smallest Divisor Given a Threshold\n",
    "\n",
    "Given an array of integers nums and an integer threshold, we will choose a positive integer divisor and divide all the array by it and sum the result of the division. Find the smallest divisor such that the result mentioned above is less than or equal to threshold.\n",
    "\n",
    "Each result of division is rounded to the nearest integer greater than or equal to that element. (For example: 7/3 = 3 and 10/2 = 5).\n",
    "\n",
    "It is guaranteed that there will be an answer."
   ]
  },
  {
   "cell_type": "code",
   "execution_count": 24,
   "metadata": {},
   "outputs": [],
   "source": [
    "from math import ceil\n",
    "# math.ceil()\n",
    "# math.floor()\n",
    "\n",
    "\n",
    "class SmallestDivisor:\n",
    "    def __init__(self):\n",
    "        pass\n",
    "    \n",
    "    # Brute-Force\n",
    "    # Status: Time Limit Exceeded\n",
    "    def smallestDivisor(self, nums, threshold) -> int:\n",
    "        divisor = 1\n",
    "        nsum = sum(nums)\n",
    "        while nsum > threshold:\n",
    "            divisor += 1\n",
    "            nsum = 0\n",
    "            for n in nums:\n",
    "                re = n//divisor if n%divisor == 0 else int(n//divisor)+1\n",
    "                # instead can use ceil(n/divisor) to compute\n",
    "                nsum += re\n",
    "        return divisor\n",
    "    \n",
    "    # Use binary search to reduce the time complexity.\n",
    "    def smallestDivisor2(self, nums, threshold): \n",
    "        \n",
    "        # lambda \n",
    "        compute_sum = lambda x: sum([ceil(n/x) for n in nums]) \n",
    "        \n",
    "        # find limits\n",
    "        left = 1\n",
    "        right = max(nums)\n",
    "        \n",
    "        # binary search\n",
    "        while left <= right:\n",
    "            \n",
    "            # bitwise operators: >> 1  shift to right by 5 bits meaning divided by 2\n",
    "            pivot = (left + right) >> 1\n",
    "            num = compute_sum(pivot)\n",
    "            \n",
    "            if num > threshold:\n",
    "                left = pivot + 1\n",
    "                \n",
    "            else:\n",
    "                right = pivot - 1\n",
    "                \n",
    "        return left\n",
    "        \n",
    "        # Fastest solution\n",
    "        # use array apparently can accelerate. \n",
    "        # sum(ceil(nums/mid))\n",
    "    def smallestDivisor3(self, nums, threshold: int) -> int:\n",
    "        nums = array(nums)\n",
    "        left, right = 1, max(nums)\n",
    "        while left + 1 < right:\n",
    "            mid = (left + right) // 2\n",
    "            sum_ = sum(ceil(nums / mid))\n",
    "            if sum_ > threshold: left = mid\n",
    "            else: right = mid\n",
    "        sum_ = sum(ceil(nums / left))\n",
    "        \n",
    "        return left if sum_ <= threshold else right"
   ]
  },
  {
   "cell_type": "code",
   "execution_count": 19,
   "metadata": {},
   "outputs": [
    {
     "data": {
      "text/plain": [
       "5"
      ]
     },
     "execution_count": 19,
     "metadata": {},
     "output_type": "execute_result"
    }
   ],
   "source": [
    "nums = [1,2,5,9]\n",
    "threshold = 6\n",
    "\n",
    "S = SmallestDivisor()\n",
    "S.smallestDivisor2(nums, threshold)"
   ]
  },
  {
   "cell_type": "code",
   "execution_count": 20,
   "metadata": {},
   "outputs": [
    {
     "data": {
      "text/plain": [
       "3"
      ]
     },
     "execution_count": 20,
     "metadata": {},
     "output_type": "execute_result"
    }
   ],
   "source": [
    "nums = [2,3,5,7,11]\n",
    "threshold = 11\n",
    "S.smallestDivisor(nums, threshold)"
   ]
  },
  {
   "cell_type": "markdown",
   "metadata": {},
   "source": [
    "## 11.7 Add Two Numbers II\n",
    "You are given two non-empty linked lists representing two non-negative integers. The most significant digit comes first and each of their nodes contain a single digit. Add the two numbers and return it as a linked list.\n",
    "\n",
    "You may assume the two numbers do not contain any leading zero, except the number 0 itself.\n",
    "\n",
    "Input: (7 -> 2 -> 4 -> 3) + (5 -> 6 -> 4)  \n",
    "Output: 7 -> 8 -> 0 -> 7"
   ]
  },
  {
   "cell_type": "code",
   "execution_count": 27,
   "metadata": {},
   "outputs": [],
   "source": [
    "# Definition for singly-linked list.\n",
    "class ListNode:\n",
    "    def __init__(self, val=0, next=None):\n",
    "        self.val = val\n",
    "        self.next = next\n",
    "class Solution:\n",
    "    def __init__(self):\n",
    "        pass\n",
    "    def addTwoNumbers(self, l1: ListNode, l2: ListNode) -> ListNode:\n",
    "        n1 = 0\n",
    "        n2 = 0\n",
    "        \n",
    "        # find the numbers and add them\n",
    "        while l1: \n",
    "            n1 *= 10\n",
    "            n1 += l1.val\n",
    "            l1 = l1.next\n",
    "        while l2: \n",
    "            n2 *= 10\n",
    "            n2 += l2.val\n",
    "            l2 = l2.next\n",
    "            \n",
    "        n = n1 + n2\n",
    "        \n",
    "        # create a new list from the number we got\n",
    "        head = ListNode(0)\n",
    "        tail = None\n",
    "        while n > 0:\n",
    "            # start at the last node to create the LinkedList\n",
    "            head = ListNode(n%10)\n",
    "            n //= 10\n",
    "            head.next = tail\n",
    "            tail = head\n",
    "        return head"
   ]
  },
  {
   "cell_type": "markdown",
   "metadata": {},
   "source": [
    "## 11.8 Binary Tree Tilt\n",
    "Given the root of a binary tree, return the sum of every tree node's tilt.\n",
    "\n",
    "The tilt of a tree node is the absolute difference between the sum of all left subtree node values and all right subtree node values. If a node does not have a left child, then the sum of the left subtree node values is treated as 0. The rule is similar if there the node does not have a right child.\n",
    "\n",
    "#### Intuition\n",
    "The idea is to recursively traverse tree. While traversing, we keep track of two things, sum of subtree rooted under current node, tilt of current node. Sum is needed to compute tilt of parent."
   ]
  },
  {
   "cell_type": "code",
   "execution_count": 4,
   "metadata": {},
   "outputs": [],
   "source": [
    "class Solution:\n",
    "    def findTilt(self, root: TreeNode) -> int:\n",
    "        \n",
    "        #tilt: mutable object to have in-place changes\n",
    "        tilt = [0]\n",
    "        self.traversal(root, tilt)\n",
    "        return tilt[0]\n",
    "        \n",
    "    # recursion\n",
    "    def traversal(self, root, tilt):\n",
    "        \n",
    "        if not root:\n",
    "            return 0\n",
    "        \n",
    "        left = self.traversal(root.left, tilt)\n",
    "        right = self.traversal(root.right, tilt)\n",
    "        \n",
    "        tilt[0] += abs(left - right)\n",
    "        \n",
    "        return left + right + root.val"
   ]
  },
  {
   "cell_type": "code",
   "execution_count": 5,
   "metadata": {},
   "outputs": [
    {
     "ename": "NameError",
     "evalue": "name '_MIN' is not defined",
     "output_type": "error",
     "traceback": [
      "\u001b[1;31m---------------------------------------------------------------------------\u001b[0m",
      "\u001b[1;31mNameError\u001b[0m                                 Traceback (most recent call last)",
      "\u001b[1;32m<ipython-input-5-4b1554de91b1>\u001b[0m in \u001b[0;36m<module>\u001b[1;34m\u001b[0m\n\u001b[1;32m----> 1\u001b[1;33m \u001b[0m_MIN\u001b[0m\u001b[1;33m\u001b[0m\u001b[1;33m\u001b[0m\u001b[0m\n\u001b[0m",
      "\u001b[1;31mNameError\u001b[0m: name '_MIN' is not defined"
     ]
    }
   ],
   "source": [
    "_MIN"
   ]
  },
  {
   "cell_type": "code",
   "execution_count": null,
   "metadata": {},
   "outputs": [],
   "source": []
  }
 ],
 "metadata": {
  "kernelspec": {
   "display_name": "Python 3",
   "language": "python",
   "name": "python3"
  },
  "language_info": {
   "codemirror_mode": {
    "name": "ipython",
    "version": 3
   },
   "file_extension": ".py",
   "mimetype": "text/x-python",
   "name": "python",
   "nbconvert_exporter": "python",
   "pygments_lexer": "ipython3",
   "version": "3.7.4"
  }
 },
 "nbformat": 4,
 "nbformat_minor": 2
}

{
 "cells": [
  {
   "cell_type": "markdown",
   "metadata": {},
   "source": [
    "# 1. Morris traversal"
   ]
  },
  {
   "cell_type": "code",
   "execution_count": 2,
   "metadata": {},
   "outputs": [],
   "source": [
    "class TreeNode:\n",
    "    def __init__(self, val=0, left=None, right=None):\n",
    "        self.val = val\n",
    "        self.left = left\n",
    "        self.right = right"
   ]
  },
  {
   "cell_type": "markdown",
   "metadata": {},
   "source": [
    "#### Algorithm：\n",
    "1. initialize the root as curr\n",
    "2. while curr is not Null, check if curr has a left child\n",
    "3. If curr does not have a left child: print curr and update curr to its right child\n",
    "4. Else curr does have a left child: \n",
    ">4.1 init prev as curr's left child and find the curr's TRUE prev node  \n",
    ">4.2 If prev does not have a right child: make curr its right child, and update curr to its left child  \n",
    ">4.3 Else prev does have a right child meaning : print curr, and update curr to its right child and fix the prev's right child done by 4.2\n",
    "\n",
    "#### intuition\n",
    "Start at root node, traverse the left child, finding their prev and make them their prev's right child along the way, then traverse the right child to print the result, fixing the modified right child along the way. "
   ]
  },
  {
   "cell_type": "code",
   "execution_count": 3,
   "metadata": {},
   "outputs": [],
   "source": [
    "class Solution:\n",
    "    def Morris(self, root: TreeNode) -> None:\n",
    "        # Intialize\n",
    "        curr = root\n",
    "        \n",
    "        # Traverse the tree\n",
    "        while curr is not None:\n",
    "\n",
    "            # if curr has no left child, it means it's the most previous node in the remaining subtree\n",
    "            # so output it and update curr to its right child\n",
    "            if curr.left is None:\n",
    "                print(curr.val)\n",
    "                curr = curr.right\n",
    "            \n",
    "            # There might still have nodes that more previous than the curr\n",
    "            else:\n",
    "                # So we tries to find the curr's prev\n",
    "                prev = curr.left\n",
    "                while (prev.right is not None and prev.right != curr):\n",
    "                    prev = prev.right\n",
    "                # and make the curr prev's right child, update curr to its left child to keep traversel\n",
    "                if prev.right is None:\n",
    "                    prev.right = curr\n",
    "                    curr = curr.left\n",
    "                    \n",
    "                # If prev already has curr as its right child, it means we already traversed and outputed the prev and \n",
    "                # the curr is the most previous node in the remaining subtree\n",
    "                # so ouput it and update curr to its right child\n",
    "                # and fixing the prev's right child to None to matain the orginal tree\n",
    "                else:\n",
    "                    prev.right = None\n",
    "                    print(curr.val)\n",
    "                    curr = curr.right"
   ]
  },
  {
   "cell_type": "code",
   "execution_count": null,
   "metadata": {},
   "outputs": [],
   "source": []
  },
  {
   "cell_type": "code",
   "execution_count": null,
   "metadata": {},
   "outputs": [],
   "source": []
  },
  {
   "cell_type": "markdown",
   "metadata": {},
   "source": [
    "# 2. BFS"
   ]
  },
  {
   "cell_type": "code",
   "execution_count": 8,
   "metadata": {},
   "outputs": [],
   "source": [
    "import collections"
   ]
  },
  {
   "cell_type": "markdown",
   "metadata": {},
   "source": [
    "## 2.1 Number of Islands\n",
    "\n",
    "Input: grid = [  \n",
    "  [\"1\",\"1\",\"0\",\"0\",\"0\"],  \n",
    "  [\"1\",\"1\",\"0\",\"0\",\"0\"],  \n",
    "  [\"0\",\"0\",\"1\",\"0\",\"0\"],  \n",
    "  [\"0\",\"0\",\"0\",\"1\",\"1\"]\n",
    "]  \n",
    "Output: 3  \n",
    "\n",
    "Intuition:   \n",
    "use Quene to achieve BFS"
   ]
  },
  {
   "cell_type": "code",
   "execution_count": 98,
   "metadata": {},
   "outputs": [],
   "source": [
    "class NumberOfIslands:\n",
    "    # 要先init任何一个类\n",
    "    def __init__(self, grid):\n",
    "        '''\n",
    "        m: number of rows\n",
    "        n: number of columns\n",
    "        count: island num\n",
    "        '''\n",
    "        self.grid = grid\n",
    "        self.m = len(grid)\n",
    "        self.n = len(grid[0])\n",
    "        self.count = 0\n",
    "    \n",
    "    def isValid(self, r, c):\n",
    "        \n",
    "        #注意是 大于等于号\n",
    "        if r<0 or c<0 or r>=self.m or c>=self.n:\n",
    "            return False\n",
    "        return True\n",
    "\n",
    "    def countIslands(self):\n",
    "        #m ,n = len(grid), len(grid[0])\n",
    "        #count = 0\n",
    "        for i in range(self.m):\n",
    "            for j in range(self.n):\n",
    "                if self.grid[i][j] == '1':\n",
    "                    #使用类内函数时要在前面加self\n",
    "                    self.BFS(i ,j)\n",
    "                    #print('bfs')\n",
    "                    self.count += 1\n",
    "        return self.count\n",
    "\n",
    "    def BFS(self, r, c):\n",
    "\n",
    "        quene = collections.deque()\n",
    "        quene.append((r, c))\n",
    "        self.grid[r][c] = '0'\n",
    "        directions = [(0,1), (0, -1), (1, 0), (-1, 0)]\n",
    "        #使用队列来对矩阵island\n",
    "        while quene:\n",
    "            #print(quene)\n",
    "            r, c = quene.popleft()\n",
    "            #print(r,c)\n",
    "            for direction in directions:\n",
    "\n",
    "                nr, nc = r + direction[0], c + direction[1]\n",
    "\n",
    "                if self.isValid(nr, nc) and grid[nr][nc] == '1':\n",
    "                    quene.append((nr, nc))\n",
    "                    grid[nr][nc] = '0'\n",
    "\n"
   ]
  },
  {
   "cell_type": "code",
   "execution_count": 100,
   "metadata": {},
   "outputs": [
    {
     "data": {
      "text/plain": [
       "3"
      ]
     },
     "execution_count": 100,
     "metadata": {},
     "output_type": "execute_result"
    }
   ],
   "source": [
    "grid = [\n",
    "  [\"1\",\"1\",\"0\",\"0\",\"0\"],\n",
    "  [\"1\",\"1\",\"0\",\"0\",\"0\"],\n",
    "  [\"0\",\"0\",\"1\",\"0\",\"0\"],\n",
    "  [\"0\",\"0\",\"0\",\"1\",\"1\"]\n",
    "]\n",
    "#count = 3\n",
    "s = NumberOfIslands(grid)\n",
    "\n",
    "s.countIslands()"
   ]
  },
  {
   "cell_type": "code",
   "execution_count": 104,
   "metadata": {},
   "outputs": [],
   "source": [
    "# 在一个函数里实现\n",
    "def numIslands(self, grid):\n",
    "    m = len(grid)\n",
    "    n = len(grid[0])\n",
    "    count = 0\n",
    "    directions = [(1, 0), (-1, 0), (0, 1),(0, -1)]\n",
    "    quene = collections.deque()\n",
    "\n",
    "    #使用队列实现BFS\n",
    "    for i in range(m):\n",
    "        for j in range(n):\n",
    "            if grid[i][j] == '1':\n",
    "                # BFS\n",
    "                quene.append((i,j))\n",
    "                grid[i][j] = '0'\n",
    "\n",
    "                while quene:\n",
    "                    r, c = quene.popleft()\n",
    "                    for direction in directions:\n",
    "                        nr, nc = r + direction[0], c + direction[1]\n",
    "                        if nr>=0 and nc>=0 and nr<m and nc<n and grid[nr][nc] == '1':\n",
    "                            quene.append((nr, nc))\n",
    "                            grid[nr][nc] = '0'\n",
    "\n",
    "                count += 1\n",
    "    return count"
   ]
  },
  {
   "cell_type": "code",
   "execution_count": 106,
   "metadata": {},
   "outputs": [
    {
     "data": {
      "text/plain": [
       "3"
      ]
     },
     "execution_count": 106,
     "metadata": {},
     "output_type": "execute_result"
    }
   ],
   "source": [
    "grid = [\n",
    "  [\"1\",\"1\",\"0\",\"0\",\"0\"],\n",
    "  [\"1\",\"1\",\"0\",\"0\",\"0\"],\n",
    "  [\"0\",\"0\",\"1\",\"0\",\"0\"],\n",
    "  [\"0\",\"0\",\"0\",\"1\",\"1\"]\n",
    "]\n",
    "numIslands(None, grid)"
   ]
  },
  {
   "cell_type": "code",
   "execution_count": null,
   "metadata": {},
   "outputs": [],
   "source": []
  }
 ],
 "metadata": {
  "kernelspec": {
   "display_name": "Python 3",
   "language": "python",
   "name": "python3"
  },
  "language_info": {
   "codemirror_mode": {
    "name": "ipython",
    "version": 3
   },
   "file_extension": ".py",
   "mimetype": "text/x-python",
   "name": "python",
   "nbconvert_exporter": "python",
   "pygments_lexer": "ipython3",
   "version": "3.7.4"
  }
 },
 "nbformat": 4,
 "nbformat_minor": 2
}

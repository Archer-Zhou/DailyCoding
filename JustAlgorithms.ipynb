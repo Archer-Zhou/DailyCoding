{
 "cells": [
  {
   "cell_type": "markdown",
   "metadata": {},
   "source": [
    "# Morris traversal"
   ]
  },
  {
   "cell_type": "code",
   "execution_count": 2,
   "metadata": {},
   "outputs": [],
   "source": [
    "class TreeNode:\n",
    "    def __init__(self, val=0, left=None, right=None):\n",
    "        self.val = val\n",
    "        self.left = left\n",
    "        self.right = right"
   ]
  },
  {
   "cell_type": "markdown",
   "metadata": {},
   "source": [
    "#### Algorithm：\n",
    "1. initialize the root as curr\n",
    "2. while curr is not Null, check if curr has a left child\n",
    "3. If curr does not have a left child: print curr and update curr to its right child\n",
    "4. Else curr does have a left child: \n",
    ">4.1 init prev as curr's left child and find the curr's TRUE prev node  \n",
    ">4.2 If prev does not have a right child: make curr its right child, and update curr to its left child  \n",
    ">4.3 Else prev does have a right child meaning : print curr, and update curr to its right child and fix the prev's right child done by 4.2\n",
    "\n",
    "#### intuition\n",
    "Start at root node, traverse the left child, finding their prev and make them their prev's right child along the way, then traverse the right child to print the result, fixing the modified right child along the way. "
   ]
  },
  {
   "cell_type": "code",
   "execution_count": 3,
   "metadata": {},
   "outputs": [],
   "source": [
    "class Solution:\n",
    "    def Morris(self, root: TreeNode) -> None:\n",
    "        # Intialize\n",
    "        curr = root\n",
    "        \n",
    "        # Traverse the tree\n",
    "        while curr is not None:\n",
    "\n",
    "            # if curr has no left child, it means it's the most previous node in the remaining subtree\n",
    "            # so output it and update curr to its right child\n",
    "            if curr.left is None:\n",
    "                print(curr.val)\n",
    "                curr = curr.right\n",
    "            \n",
    "            # There might still have nodes that more previous than the curr\n",
    "            else:\n",
    "                # So we tries to find the curr's prev\n",
    "                prev = curr.left\n",
    "                while (prev.right is not None and prev.right != curr):\n",
    "                    prev = prev.right\n",
    "                # and make the curr prev's right child, update curr to its left child to keep traversel\n",
    "                if prev.right is None:\n",
    "                    prev.right = curr\n",
    "                    curr = curr.left\n",
    "                    \n",
    "                # If prev already has curr as its right child, it means we already traversed and outputed the prev and \n",
    "                # the curr is the most previous node in the remaining subtree\n",
    "                # so ouput it and update curr to its right child\n",
    "                # and fixing the prev's right child to None to matain the orginal tree\n",
    "                else:\n",
    "                    prev.right = None\n",
    "                    print(curr.val)\n",
    "                    curr = curr.right"
   ]
  },
  {
   "cell_type": "code",
   "execution_count": null,
   "metadata": {},
   "outputs": [],
   "source": []
  }
 ],
 "metadata": {
  "kernelspec": {
   "display_name": "Python 3",
   "language": "python",
   "name": "python3"
  },
  "language_info": {
   "codemirror_mode": {
    "name": "ipython",
    "version": 3
   },
   "file_extension": ".py",
   "mimetype": "text/x-python",
   "name": "python",
   "nbconvert_exporter": "python",
   "pygments_lexer": "ipython3",
   "version": "3.7.4"
  }
 },
 "nbformat": 4,
 "nbformat_minor": 2
}

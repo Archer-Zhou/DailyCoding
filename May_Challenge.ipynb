{
 "cells": [
  {
   "cell_type": "markdown",
   "metadata": {},
   "source": [
    "# LeetCode May Challenge"
   ]
  },
  {
   "cell_type": "markdown",
   "metadata": {},
   "source": [
    "# Content\n",
    "### Week One:\n",
    "5.1 First Bad Version  \n",
    "5.2 Jewels and Stones  \n",
    "5.3 Ransom Note  \n",
    "5.4 Number Complement  \n",
    "5.5 First Unique Character in a String  \n",
    "5.6 Majority Element  "
   ]
  },
  {
   "cell_type": "markdown",
   "metadata": {},
   "source": [
    "## 5.1 First Bad Version\n",
    "Suppose you have n versions [1, 2, ..., n] and you want to find out the first bad one, which causes all the following ones to be bad. \n",
    "You are given an API bool isBadVersion(version) which will return whether version is bad. Implement a function to find the first bad version. You should minimize the number of calls to the API.\n",
    "Given n = 5, and version = 4 is the first bad version.\n",
    "#### Example\n",
    "call isBadVersion(3) -> false  \n",
    "call isBadVersion(5) -> true  \n",
    "call isBadVersion(4) -> true  \n",
    "\n",
    "Then 4 is the first bad version. "
   ]
  },
  {
   "cell_type": "code",
   "execution_count": 2,
   "metadata": {},
   "outputs": [],
   "source": [
    "def firstBadVersion(self, n):\n",
    "    \"\"\"\n",
    "    :type n: int\n",
    "    :rtype: int\n",
    "    \"\"\"\n",
    "    left = 1\n",
    "    right = n\n",
    "\n",
    "    while left < right:\n",
    "        mid = int((left + right) / 2)\n",
    "        # python dose not overflow, \n",
    "        # but if using Java \n",
    "        #  mid = left + (right - left) / 2;    --USE THIS INSTEAD\n",
    "\n",
    "        if isBadVersion(mid):\n",
    "            right = mid\n",
    "\n",
    "        else:\n",
    "            left = mid + 1\n",
    "\n",
    "    return left"
   ]
  },
  {
   "cell_type": "code",
   "execution_count": null,
   "metadata": {},
   "outputs": [],
   "source": []
  },
  {
   "cell_type": "markdown",
   "metadata": {},
   "source": [
    "## 5.2 Jewels and Stones\n",
    "You're given strings J representing the types of stones that are jewels, and S representing the stones you have.  Each character in S is a type of stone you have.  You want to know how many of the stones you have are also jewels.\n",
    "The letters in J are guaranteed distinct, and all characters in J and S are letters. Letters are case sensitive, so \"a\" is considered a \n",
    "different type of stone from \"A\".\n",
    "#### Example\n",
    "Input: J = \"aA\", S = \"aAAbbbb\"\n",
    "Output: 3"
   ]
  },
  {
   "cell_type": "code",
   "execution_count": 3,
   "metadata": {},
   "outputs": [],
   "source": [
    "def numJewelsInStones(self, J: str, S: str) -> int:\n",
    "    return sum(s in set(J) for s in S)"
   ]
  },
  {
   "cell_type": "code",
   "execution_count": null,
   "metadata": {},
   "outputs": [],
   "source": []
  },
  {
   "cell_type": "markdown",
   "metadata": {},
   "source": [
    "## 5.3 Ransom Note\n",
    "Given an arbitrary ransom note string and another string containing letters from all the magazines, write a function that will return true if the ransom note can be constructed from the magazines ; otherwise, it will return false.\n",
    "Each letter in the magazine string can only be used once in your ransom note.\n",
    "You may assume that both strings contain only lowercase letters.\n",
    "#### Example\n",
    "canConstruct(\"a\", \"b\") -> false\n",
    "canConstruct(\"aa\", \"ab\") -> false\n",
    "canConstruct(\"aa\", \"aab\") -> true"
   ]
  },
  {
   "cell_type": "code",
   "execution_count": 4,
   "metadata": {},
   "outputs": [],
   "source": [
    "def canConstruct(self, ransomNote: str, magazine: str) -> bool:\n",
    "    for string in ransomNote:\n",
    "        if string in magazine:\n",
    "            magazine = magazine.replace(string, '', 1)\n",
    "        else:\n",
    "            return False\n",
    "    return True"
   ]
  },
  {
   "cell_type": "code",
   "execution_count": null,
   "metadata": {},
   "outputs": [],
   "source": []
  },
  {
   "cell_type": "markdown",
   "metadata": {},
   "source": [
    "## 5.4 Number Complement\n",
    "Given a positive integer, output its complement number. The complement strategy is to flip the bits of its binary representation.\n",
    "#### Example\n",
    "Input: 5  \n",
    "Output: 2  \n",
    "Explanation: The binary representation of 5 is 101 (no leading zero bits), and its complement is 010. So you need to output 2."
   ]
  },
  {
   "cell_type": "code",
   "execution_count": 1,
   "metadata": {},
   "outputs": [],
   "source": [
    "num = 5"
   ]
  },
  {
   "cell_type": "code",
   "execution_count": 2,
   "metadata": {},
   "outputs": [
    {
     "data": {
      "text/plain": [
       "2"
      ]
     },
     "execution_count": 2,
     "metadata": {},
     "output_type": "execute_result"
    }
   ],
   "source": [
    "int(''.join([str(1 - int(b)) for b in bin(num)[2:]]), base = 2)"
   ]
  },
  {
   "cell_type": "markdown",
   "metadata": {},
   "source": [
    "Why use bin(num)**[2 : ]** after bin(num)?"
   ]
  },
  {
   "cell_type": "code",
   "execution_count": 4,
   "metadata": {},
   "outputs": [
    {
     "data": {
      "text/plain": [
       "'0b101'"
      ]
     },
     "execution_count": 4,
     "metadata": {},
     "output_type": "execute_result"
    }
   ],
   "source": [
    "bin(num)\n",
    "# 'Cause the head is 'ob'"
   ]
  },
  {
   "cell_type": "markdown",
   "metadata": {},
   "source": [
    "**base = 2**\n",
    "\n",
    "改变int以什么为底，By Dufault 为10"
   ]
  },
  {
   "cell_type": "code",
   "execution_count": 5,
   "metadata": {},
   "outputs": [
    {
     "data": {
      "text/plain": [
       "8"
      ]
     },
     "execution_count": 5,
     "metadata": {},
     "output_type": "execute_result"
    }
   ],
   "source": [
    "int(\"010\", base = 8)"
   ]
  },
  {
   "cell_type": "code",
   "execution_count": 6,
   "metadata": {},
   "outputs": [
    {
     "data": {
      "text/plain": [
       "10"
      ]
     },
     "execution_count": 6,
     "metadata": {},
     "output_type": "execute_result"
    }
   ],
   "source": [
    "int(\"010\")"
   ]
  },
  {
   "cell_type": "markdown",
   "metadata": {},
   "source": [
    "## 5.5 First Unique Character in a String\n",
    "Given a string, find the first non-repeating character in it and return it's index. If it doesn't exist, return -1.\n",
    "#### Example\n",
    "s = \"leetcode\"\n",
    "return 0.\n",
    "s = \"loveleetcode\",\n",
    "return 2.\n",
    "#### Note\n",
    "You may assume the string contain only lowercase letters."
   ]
  },
  {
   "cell_type": "code",
   "execution_count": 5,
   "metadata": {},
   "outputs": [],
   "source": [
    "def firstUniqChar(self, s: str) -> int:\n",
    "    index = -1\n",
    "    for i in range(len(s)):\n",
    "        if s[i] not in s.replace(s[i], ' ', 1):\n",
    "            index = i\n",
    "            break\n",
    "\n",
    "    return index"
   ]
  },
  {
   "cell_type": "code",
   "execution_count": null,
   "metadata": {},
   "outputs": [],
   "source": []
  },
  {
   "cell_type": "markdown",
   "metadata": {},
   "source": [
    "## 5.6 Majority Element\n",
    "Given an array of size n, find the majority element. The majority element is the element that appears more than ⌊ n/2 ⌋ times.\n",
    "\n",
    "You may assume that the array is non-empty and the majority element always exist in the array.\n",
    "#### Example \n",
    "Input: [2,2,1,1,1,2,2]\n",
    "\n",
    "Output: 2"
   ]
  },
  {
   "cell_type": "code",
   "execution_count": 10,
   "metadata": {},
   "outputs": [],
   "source": [
    "def majorityElement(self, nums: list) -> int:\n",
    "    majorityElement = -1\n",
    "    listLength = len(nums)\n",
    "    for e in set(nums):\n",
    "        if nums.count(e) > listLength/2:\n",
    "            majorityElement = e\n",
    "    return majorityElement"
   ]
  },
  {
   "cell_type": "code",
   "execution_count": 11,
   "metadata": {},
   "outputs": [
    {
     "data": {
      "text/plain": [
       "2"
      ]
     },
     "execution_count": 11,
     "metadata": {},
     "output_type": "execute_result"
    }
   ],
   "source": [
    "majorityElement(0, [2,2,1,1,1,2,2])"
   ]
  },
  {
   "cell_type": "code",
   "execution_count": null,
   "metadata": {},
   "outputs": [],
   "source": []
  }
 ],
 "metadata": {
  "kernelspec": {
   "display_name": "Python 3",
   "language": "python",
   "name": "python3"
  },
  "language_info": {
   "codemirror_mode": {
    "name": "ipython",
    "version": 3
   },
   "file_extension": ".py",
   "mimetype": "text/x-python",
   "name": "python",
   "nbconvert_exporter": "python",
   "pygments_lexer": "ipython3",
   "version": "3.7.4"
  }
 },
 "nbformat": 4,
 "nbformat_minor": 2
}

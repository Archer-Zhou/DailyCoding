{
 "cells": [
  {
   "cell_type": "markdown",
   "metadata": {},
   "source": [
    "# LeetCode May Challenge"
   ]
  },
  {
   "cell_type": "code",
   "execution_count": 11,
   "metadata": {},
   "outputs": [],
   "source": [
    "class TreeNode:\n",
    "    def __init__(self, val=0, left=None, right=None):\n",
    "        self.val = val\n",
    "        self.left = left\n",
    "        self.right = right"
   ]
  },
  {
   "cell_type": "markdown",
   "metadata": {},
   "source": [
    "# Content\n",
    "### Week One:\n",
    "5.1 First Bad Version  \n",
    "5.2 Jewels and Stones  \n",
    "5.3 Ransom Note  \n",
    "5.4 Number Complement  \n",
    "5.5 First Unique Character in a String  \n",
    "5.6 Majority Element  \n",
    "5.7 Cousins in Binary Tree  \n",
    "### Week Two\n",
    "5.8 Check If It Is a Straight Line\n",
    "5.9 Valid Perfect Square\n",
    "5.10 Find the Town Judge\n",
    "5.11 Flood Fill  \n",
    "5.12 Single Element in a Sorted Array "
   ]
  },
  {
   "cell_type": "markdown",
   "metadata": {},
   "source": [
    "## 5.1 First Bad Version\n",
    "Suppose you have n versions [1, 2, ..., n] and you want to find out the first bad one, which causes all the following ones to be bad. \n",
    "You are given an API bool isBadVersion(version) which will return whether version is bad. Implement a function to find the first bad version. You should minimize the number of calls to the API.\n",
    "Given n = 5, and version = 4 is the first bad version.\n",
    "#### Example\n",
    "call isBadVersion(3) -> false  \n",
    "call isBadVersion(5) -> true  \n",
    "call isBadVersion(4) -> true  \n",
    "\n",
    "Then 4 is the first bad version. "
   ]
  },
  {
   "cell_type": "code",
   "execution_count": 19,
   "metadata": {},
   "outputs": [],
   "source": [
    "def firstBadVersion(self, n):\n",
    "    \"\"\"\n",
    "    :type n: int\n",
    "    :rtype: int\n",
    "    \"\"\"\n",
    "    left = 1\n",
    "    right = n\n",
    "\n",
    "    while left < right:\n",
    "        mid = left + (right - left) / 2 #python does not overflow, but it doesn't hurt to always remenber to avoid overflow\n",
    "        # python dose not overflow, \n",
    "        # but if using Java \n",
    "        #  mid = left + (right - left) / 2;    --USE THIS INSTEAD\n",
    "\n",
    "        if isBadVersion(mid):\n",
    "            right = mid\n",
    "\n",
    "        else:\n",
    "            left = mid + 1\n",
    "\n",
    "    return left"
   ]
  },
  {
   "cell_type": "markdown",
   "metadata": {},
   "source": [
    "#### Intuition\n",
    "It is not difficult to see that this could be solved using a classic algorithm **Binary search.**\n"
   ]
  },
  {
   "cell_type": "markdown",
   "metadata": {},
   "source": [
    "## 5.2 Jewels and Stones\n",
    "You're given strings J representing the types of stones that are jewels, and S representing the stones you have.  Each character in S is a type of stone you have.  You want to know how many of the stones you have are also jewels.\n",
    "The letters in J are guaranteed distinct, and all characters in J and S are letters. Letters are case sensitive, so \"a\" is considered a \n",
    "different type of stone from \"A\".\n",
    "#### Example\n",
    "Input: J = \"aA\", S = \"aAAbbbb\"\n",
    "Output: 3"
   ]
  },
  {
   "cell_type": "code",
   "execution_count": 21,
   "metadata": {},
   "outputs": [],
   "source": [
    "def numJewelsInStones(self, J: str, S: str) -> int:\n",
    "    return sum(s in set(J) for s in S)\n",
    "\n",
    "    #sum(s in set for s in List) 可以计算出List中元素属于set的个数"
   ]
  },
  {
   "cell_type": "code",
   "execution_count": null,
   "metadata": {},
   "outputs": [],
   "source": []
  },
  {
   "cell_type": "markdown",
   "metadata": {},
   "source": [
    "## 5.3 Ransom Note\n",
    "Given an arbitrary ransom note string and another string containing letters from all the magazines, write a function that will return true if the ransom note can be constructed from the magazines ; otherwise, it will return false.\n",
    "Each letter in the magazine string can only be used once in your ransom note.\n",
    "You may assume that both strings contain only lowercase letters.\n",
    "#### Example\n",
    "canConstruct(\"a\", \"b\") -> false\n",
    "canConstruct(\"aa\", \"ab\") -> false\n",
    "canConstruct(\"aa\", \"aab\") -> true"
   ]
  },
  {
   "cell_type": "code",
   "execution_count": 4,
   "metadata": {},
   "outputs": [],
   "source": [
    "def canConstruct(self, ransomNote: str, magazine: str) -> bool:\n",
    "    for string in ransomNote:\n",
    "        if string in magazine:\n",
    "            magazine = magazine.replace(string, '', 1)\n",
    "        else:\n",
    "            return False\n",
    "    return True"
   ]
  },
  {
   "cell_type": "code",
   "execution_count": null,
   "metadata": {},
   "outputs": [],
   "source": []
  },
  {
   "cell_type": "markdown",
   "metadata": {},
   "source": [
    "## 5.4 Number Complement\n",
    "Given a positive integer, output its complement number. The complement strategy is to flip the bits of its binary representation.\n",
    "#### Example\n",
    "Input: 5  \n",
    "Output: 2  \n",
    "Explanation: The binary representation of 5 is 101 (no leading zero bits), and its complement is 010. So you need to output 2."
   ]
  },
  {
   "cell_type": "code",
   "execution_count": 23,
   "metadata": {},
   "outputs": [],
   "source": [
    "#Complement: a thing that completes or brings to perfection."
   ]
  },
  {
   "cell_type": "code",
   "execution_count": 24,
   "metadata": {},
   "outputs": [],
   "source": [
    "num = 5"
   ]
  },
  {
   "cell_type": "code",
   "execution_count": 25,
   "metadata": {},
   "outputs": [
    {
     "data": {
      "text/plain": [
       "2"
      ]
     },
     "execution_count": 25,
     "metadata": {},
     "output_type": "execute_result"
    }
   ],
   "source": [
    "int(''.join([str(1 - int(b)) for b in bin(num)[2:]]), base = 2)"
   ]
  },
  {
   "cell_type": "markdown",
   "metadata": {},
   "source": [
    "#### Thoughts\n",
    "1. Why use bin(num)**[2 : ]** after bin(num)?  Because"
   ]
  },
  {
   "cell_type": "code",
   "execution_count": 27,
   "metadata": {},
   "outputs": [
    {
     "data": {
      "text/plain": [
       "'0b101'"
      ]
     },
     "execution_count": 27,
     "metadata": {},
     "output_type": "execute_result"
    }
   ],
   "source": [
    "# 'Cause the head is 'ob'\n",
    "bin(num)"
   ]
  },
  {
   "cell_type": "markdown",
   "metadata": {},
   "source": [
    "2. 使用 **base = 2** 改变int以什么为底，By Dufault 为10"
   ]
  },
  {
   "cell_type": "code",
   "execution_count": 28,
   "metadata": {},
   "outputs": [
    {
     "data": {
      "text/plain": [
       "8"
      ]
     },
     "execution_count": 28,
     "metadata": {},
     "output_type": "execute_result"
    }
   ],
   "source": [
    "int(\"010\", base = 8)"
   ]
  },
  {
   "cell_type": "code",
   "execution_count": 6,
   "metadata": {},
   "outputs": [
    {
     "data": {
      "text/plain": [
       "10"
      ]
     },
     "execution_count": 6,
     "metadata": {},
     "output_type": "execute_result"
    }
   ],
   "source": [
    "int(\"010\")"
   ]
  },
  {
   "cell_type": "markdown",
   "metadata": {},
   "source": [
    "3. 使用bin(num)[2: ]遍历一个数的二进制形式："
   ]
  },
  {
   "cell_type": "code",
   "execution_count": 30,
   "metadata": {},
   "outputs": [
    {
     "name": "stdout",
     "output_type": "stream",
     "text": [
      "101"
     ]
    }
   ],
   "source": [
    "for i in bin(5)[2:]:\n",
    "    print(i, end = '')"
   ]
  },
  {
   "cell_type": "code",
   "execution_count": null,
   "metadata": {},
   "outputs": [],
   "source": []
  },
  {
   "cell_type": "markdown",
   "metadata": {},
   "source": [
    "## 5.5 First Unique Character in a String\n",
    "Given a string, find the first non-repeating character in it and return it's index. If it doesn't exist, return -1.\n",
    "#### Example\n",
    "s = \"leetcode\"\n",
    "return 0.\n",
    "s = \"loveleetcode\",\n",
    "return 2.\n",
    "#### Note\n",
    "You may assume the string contain only lowercase letters."
   ]
  },
  {
   "cell_type": "code",
   "execution_count": 40,
   "metadata": {},
   "outputs": [],
   "source": [
    "#My Solution\n",
    "def firstUniqChar(self, s: str) -> int:\n",
    "    index = -1\n",
    "    for i in range(len(s)):\n",
    "        if s[i] not in s.replace(s[i], ' ', 1):\n",
    "            index = i\n",
    "            break\n",
    "    return index\n",
    "\n",
    "#gregs' Sulotion\n",
    "def gregsfirstUniqChar(self, s: str) -> int:\n",
    "    letters = 'abcdefjhigklmnopqrstuvwsyz'\n",
    "    #求得所有在s中只出现一次的字母的index， 返回其中最小的index\n",
    "    indexs = [s.index(l) for l in letters if s.count(l) == 1]\n",
    "    print(indexs)\n",
    "    return min(indexs) if len(indexs) > 0 else -1"
   ]
  },
  {
   "cell_type": "markdown",
   "metadata": {},
   "source": [
    "#### Explanation\n",
    "Its only faster because **s.index is a C function** that python is calling.  \n",
    "So you are changing the python **loop** to be the 26 characters, and the C loop is doing the heavy lifting searching the string"
   ]
  },
  {
   "cell_type": "code",
   "execution_count": 41,
   "metadata": {},
   "outputs": [
    {
     "name": "stdout",
     "output_type": "stream",
     "text": [
      "[8, 10, 7, 2]\n"
     ]
    },
    {
     "data": {
      "text/plain": [
       "2"
      ]
     },
     "execution_count": 41,
     "metadata": {},
     "output_type": "execute_result"
    }
   ],
   "source": [
    "gregsfirstUniqChar(1, 'loveleetcode')"
   ]
  },
  {
   "cell_type": "code",
   "execution_count": null,
   "metadata": {},
   "outputs": [],
   "source": []
  },
  {
   "cell_type": "markdown",
   "metadata": {},
   "source": [
    "## 5.6 Majority Element\n",
    "Given an array of size n, find the majority element. The majority element is the element that appears more than ⌊ n/2 ⌋ times.\n",
    "\n",
    "You may assume that the array is non-empty and the majority element always exist in the array.\n",
    "#### Example \n",
    "Input: [2,2,1,1,1,2,2]\n",
    "\n",
    "Output: 2"
   ]
  },
  {
   "cell_type": "code",
   "execution_count": 48,
   "metadata": {},
   "outputs": [],
   "source": [
    "#My Solution\n",
    "def majorityElement(self, nums: list) -> int:\n",
    "    majorityElement = -1\n",
    "    listLength = len(nums)\n",
    "    for e in set(nums):\n",
    "        if nums.count(e) > listLength/2:\n",
    "            majorityElement = e\n",
    "    return majorityElement\n",
    "\n",
    "#LeetCode's Solution\n",
    "def leetCodeMajorityElement(self, nums: list) -> int:\n",
    "    count = 0\n",
    "    candidate = None\n",
    "    for num in nums:\n",
    "        if count == 0:\n",
    "            candidate = num\n",
    "        count += (1 if num == candidate else -1)\n",
    "        print('candidate:',candidate, 'count:',count)\n",
    "    return candidate"
   ]
  },
  {
   "cell_type": "markdown",
   "metadata": {},
   "source": [
    "#### Intuition\n",
    "If we had some way of counting instances of **the majority element as +1 and instances of any other element as -1−1**, **SUMMING them** would make it obvious that the majority element is indeed the majority element."
   ]
  },
  {
   "cell_type": "code",
   "execution_count": 49,
   "metadata": {},
   "outputs": [
    {
     "name": "stdout",
     "output_type": "stream",
     "text": [
      "candidate: 2 count: 1\n",
      "candidate: 2 count: 2\n",
      "candidate: 2 count: 1\n",
      "candidate: 2 count: 0\n",
      "candidate: 1 count: 1\n",
      "candidate: 1 count: 0\n",
      "candidate: 2 count: 1\n"
     ]
    },
    {
     "data": {
      "text/plain": [
       "2"
      ]
     },
     "execution_count": 49,
     "metadata": {},
     "output_type": "execute_result"
    }
   ],
   "source": [
    "leetCodeMajorityElement(0, [2,2,1,1,1,2,2])"
   ]
  },
  {
   "cell_type": "code",
   "execution_count": null,
   "metadata": {},
   "outputs": [],
   "source": []
  },
  {
   "cell_type": "markdown",
   "metadata": {},
   "source": [
    "## 5.7 Cousins in Binary Tree\n",
    "Two nodes of a binary tree are **cousins** if they have **the same depth**, but have **different parents**.  \n",
    "We are given the root of a binary tree with unique values, and the values x and y of two different nodes in the tree.\n",
    "Return true if and only if the nodes corresponding to the values x and y are cousins.\n",
    "#### Example\n",
    "Input: root = [1,2,3,4], x = 4, y = 3  \n",
    "Output: False"
   ]
  },
  {
   "cell_type": "code",
   "execution_count": 12,
   "metadata": {},
   "outputs": [],
   "source": [
    "class Solution5_7:\n",
    "    def isSibling(self, root, a, b):\n",
    "        if root is None:\n",
    "            return 0\n",
    "        if root.left is None:\n",
    "            return self.isSibling(root.right, a, b)\n",
    "        if root.right is None:\n",
    "            return self.isSibling(root.left, a, b)\n",
    "        return ((root.left.val == a and root.right.val == b) or\n",
    "                (root.right.val == a and root.left.val == b) or\n",
    "                self.isSibling(root.left, a, b) or\n",
    "                self.isSibling(root.right, a, b))\n",
    "    def depth(self, root, ptr, dep):\n",
    "        \n",
    "        if root is None:\n",
    "            return 0\n",
    "        #print(root.val, dep)\n",
    "        if root.val == ptr:\n",
    "            return dep\n",
    "        l = self.depth(root.left, ptr, dep+1)\n",
    "        \n",
    "        if l != 0:\n",
    "            return l\n",
    "        return self.depth(root.right, ptr, dep+1)\n",
    "    def isCousins(self, root: TreeNode, x: int, y: int) -> bool:\n",
    "        a = self.depth(root, x, 1)\n",
    "        b = self.depth(root, y, 1)\n",
    "        #print(a, b)\n",
    "        if a == b and not (self.isSibling(root, x, y)):\n",
    "            return True\n",
    "        else: \n",
    "            return False"
   ]
  },
  {
   "cell_type": "markdown",
   "metadata": {},
   "source": [
    "#### Thoughts\n",
    "When in **CLASS**, never fogot the **self** in function"
   ]
  },
  {
   "cell_type": "markdown",
   "metadata": {},
   "source": [
    "## 5.8 Check If It Is a Straight Line\n",
    "You are given an array coordinates, coordinates[i] = [x, y], where [x, y] represents the coordinate of a point. Check if these points make a straight line in the XY plane.\n",
    "#### example\n",
    "Input: coordinates = [[1,2],[2,3],[3,4],[4,5],[5,6],[6,7]]  \n",
    "Output: true"
   ]
  },
  {
   "cell_type": "code",
   "execution_count": 17,
   "metadata": {},
   "outputs": [],
   "source": [
    "def checkStraightLine(coordinates: list) -> bool:\n",
    "    (x0, y0), (x1, y1) = coordinates[: 2]\n",
    "    for x, y in coordinates:\n",
    "        if (x1 - x0) * (y - y1) != (x - x1) * (y1 - y0):\n",
    "            return False\n",
    "    return True"
   ]
  },
  {
   "cell_type": "markdown",
   "metadata": {},
   "source": [
    "#### intuition\n",
    "The slope for a line through any 2 points (x0, y0) and (x1, y1) is (y1 - y0) / (x1 - x0); Therefore, for any given 3 points (denote the 3rd point as (x, y)), if they are in a straight line, the slopes of the lines from the 3rd point to the 2nd point and the 2nd point to the 1st point must be equal  \n",
    "In order to **avoid being divided by 0, use multiplication form**"
   ]
  },
  {
   "cell_type": "markdown",
   "metadata": {},
   "source": []
  },
  {
   "cell_type": "markdown",
   "metadata": {},
   "source": [
    "## 5.9 Valid Perfect Square\n",
    "Given a positive integer num, write a function which returns True if num is a perfect square else False.\n",
    "\n",
    "**Note:** Do not use any built-in library function such as sqrt."
   ]
  },
  {
   "cell_type": "code",
   "execution_count": 15,
   "metadata": {},
   "outputs": [],
   "source": [
    "def isPerfectSquare(num: int):\n",
    "    i = 1;\n",
    "    while num > 0:\n",
    "        num -= i\n",
    "        i += 2\n",
    "    return num == 0;"
   ]
  },
  {
   "cell_type": "markdown",
   "metadata": {},
   "source": [
    "#### intuition\n",
    "This is a **math problem：**  \n",
    "1 = 1  \n",
    "4 = 1 + 3  \n",
    "9 = 1 + 3 + 5  \n",
    "....  \n",
    "so 1+3+...+(2n-1) = (2n-1 + 1)n/2 = nn\n",
    "\n"
   ]
  },
  {
   "cell_type": "code",
   "execution_count": null,
   "metadata": {},
   "outputs": [],
   "source": []
  },
  {
   "cell_type": "code",
   "execution_count": null,
   "metadata": {},
   "outputs": [],
   "source": []
  },
  {
   "cell_type": "markdown",
   "metadata": {},
   "source": [
    "## 5.10 Find the Town Judge\n",
    "In a town, there are N people labelled from 1 to N.  There is a rumor that one of these people is secretly the town judge.\n",
    "\n",
    "If the town judge exists, then:\n",
    "\n",
    "1. **The town judge trusts nobody.**  \n",
    "2. **Everybody (except for the town judge) trusts the town judge.**  \n",
    "3. There is exactly **one person** that satisfies properties 1 and 2.\n",
    "You are given trust, an array of pairs trust[i] = [a, b] representing that the person labelled a trusts the person labelled b.\n",
    "\n",
    "If the town judge exists and can be identified, return the label of the town judge.  Otherwise, return -1."
   ]
  },
  {
   "cell_type": "code",
   "execution_count": 8,
   "metadata": {},
   "outputs": [],
   "source": [
    "def findJudge(N: int, trust: list) -> int:\n",
    "    if N == 1:\n",
    "            return 1\n",
    "    count = [0] * (N + 1)\n",
    "    for i, j in trust:\n",
    "        count[i] -= 1\n",
    "        count[j] += 1\n",
    "    print(count)\n",
    "    for i in range(N + 1):\n",
    "        if count[i] == N - 1:\n",
    "            return i\n",
    "    \n",
    "    return -1"
   ]
  },
  {
   "cell_type": "markdown",
   "metadata": {},
   "source": [
    "#### Intuition:\n",
    "Consider *trust* as a **graph**, all pairs are directed edge.\n",
    "The point with **in-degree - out-degree = N - 1 become the judge.**\n",
    "#### Explanation:\n",
    "Count the degree, and check at the end.\n",
    "#### **Time Complexity:**\n",
    "Time O(T + N), space O(N)"
   ]
  },
  {
   "cell_type": "code",
   "execution_count": 10,
   "metadata": {},
   "outputs": [
    {
     "name": "stdout",
     "output_type": "stream",
     "text": [
      "[0, -1, 1]\n"
     ]
    }
   ],
   "source": [
    "re = findJudge(2, [[1,2]])"
   ]
  },
  {
   "cell_type": "markdown",
   "metadata": {},
   "source": [
    "## 5.11 Flood Fill\n",
    "An image is represented by a 2-D array of integers, each integer representing the pixel value of the image (from 0 to 65535).\n",
    "\n",
    "Given a coordinate (sr, sc) representing the starting pixel (row and column) of the flood fill, and a pixel value newColor, \"flood fill\" the image.\n",
    "\n",
    "To perform a \"flood fill\", consider the starting pixel, plus any pixels connected 4-directionally to the starting pixel of the same color as the starting pixel, plus any pixels connected 4-directionally to those pixels (also with the same color as the starting pixel), and so on. Replace the color of all of the aforementioned pixels with the newColor.\n",
    "\n",
    "At the end, return the modified image."
   ]
  },
  {
   "cell_type": "code",
   "execution_count": 4,
   "metadata": {},
   "outputs": [],
   "source": [
    "class Solution5_11:\n",
    "    def floodFill(self, image: list, sr: int, sc: int, newColor: int) -> list:\n",
    "        rowLength, colLength, originalColor = len(image), len(image[0]), image[sr][sc]\n",
    "        \n",
    "        def flooding(row, col):\n",
    "            if (row < 0 or row >=rowLength or col <0 or col >= colLength or image[row][col] != originalColor):\n",
    "                return 0\n",
    "            image[row][col] = newColor\n",
    "            [flooding(row + x, col + y) for (x, y) in ((1,0), (0,1), (-1,0), (0,-1))]\n",
    "            \n",
    "        if image[sr][sc] != newColor:\n",
    "            flooding(sr, sc)\n",
    "        return image"
   ]
  },
  {
   "cell_type": "markdown",
   "metadata": {},
   "source": [
    "## 5.12 Single Element in a Sorted Array\n",
    "You are given a sorted array consisting of only integers where every element appears exactly **twice**, except for **one element** which appears exactly **once**. Find this single element that appears only once.\n",
    "#### Example\n",
    "Input: [1,1,2,3,3,4,4,8,8]  \n",
    "Output: 2\n",
    "#### Note\n",
    "Your solution should run in O(log n) time and O(1) space."
   ]
  },
  {
   "cell_type": "code",
   "execution_count": 2,
   "metadata": {},
   "outputs": [],
   "source": [
    "class Solution5_12:\n",
    "    def singleNonDuplicate(self, nums: list) -> int:\n",
    "        left, right = 0, len(nums) // 2\n",
    "        while left < right:\n",
    "            mid = (left + right) // 2\n",
    "            if nums[mid * 2] == nums[mid * 2 + 1]:\n",
    "                left = mid + 1\n",
    "            else:\n",
    "                right = mid \n",
    "        return nums[left * 2]"
   ]
  },
  {
   "cell_type": "markdown",
   "metadata": {},
   "source": [
    "#### Intuition\n",
    "The solution is using **binary search**.   \n",
    "Basically you want to find the first even-index number not followed by the same number"
   ]
  },
  {
   "cell_type": "markdown",
   "metadata": {},
   "source": [
    "#### Observations\n",
    ">The number of elems is always odd  \n",
    ">The pair indexes go from left=0 till right=len(nums)//2.    \n",
    ">We can consider elems as **pairs**: nums[i*2]==nums[i*2+1]"
   ]
  },
  {
   "cell_type": "code",
   "execution_count": null,
   "metadata": {},
   "outputs": [],
   "source": []
  }
 ],
 "metadata": {
  "kernelspec": {
   "display_name": "Python 3",
   "language": "python",
   "name": "python3"
  },
  "language_info": {
   "codemirror_mode": {
    "name": "ipython",
    "version": 3
   },
   "file_extension": ".py",
   "mimetype": "text/x-python",
   "name": "python",
   "nbconvert_exporter": "python",
   "pygments_lexer": "ipython3",
   "version": "3.7.4"
  }
 },
 "nbformat": 4,
 "nbformat_minor": 2
}
